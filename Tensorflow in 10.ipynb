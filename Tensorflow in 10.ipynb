{
 "cells": [
  {
   "cell_type": "markdown",
   "metadata": {},
   "source": [
    "# 0. Import Data"
   ]
  },
  {
   "cell_type": "code",
   "execution_count": 1,
   "metadata": {},
   "outputs": [],
   "source": [
    "import pandas as pd\n",
    "from sklearn.model_selection import train_test_split"
   ]
  },
  {
   "cell_type": "code",
   "execution_count": 2,
   "metadata": {},
   "outputs": [],
   "source": [
    "df = pd.read_csv('/Users/scarlettattensil/Downloads/Churn.csv')"
   ]
  },
  {
   "cell_type": "code",
   "execution_count": 3,
   "metadata": {},
   "outputs": [],
   "source": [
    "X = pd.get_dummies(df.drop(['Churn', 'Customer ID'], axis=1))\n",
    "y = df['Churn'].apply(lambda x: 1 if x=='Yes' else 0)"
   ]
  },
  {
   "cell_type": "code",
   "execution_count": 4,
   "metadata": {},
   "outputs": [],
   "source": [
    "X_train, X_test, y_train, y_test = train_test_split(X, y, test_size=.2)"
   ]
  },
  {
   "cell_type": "code",
   "execution_count": 5,
   "metadata": {},
   "outputs": [
    {
     "data": {
      "text/plain": [
       "2806    0\n",
       "2524    0\n",
       "1264    1\n",
       "6282    0\n",
       "1322    0\n",
       "Name: Churn, dtype: int64"
      ]
     },
     "execution_count": 5,
     "metadata": {},
     "output_type": "execute_result"
    }
   ],
   "source": [
    "y_train.head()"
   ]
  },
  {
   "cell_type": "markdown",
   "metadata": {},
   "source": [
    "# 1. Import Dependencies"
   ]
  },
  {
   "cell_type": "code",
   "execution_count": 6,
   "metadata": {},
   "outputs": [
    {
     "name": "stdout",
     "output_type": "stream",
     "text": [
      "Collecting package metadata (current_repodata.json): done\n",
      "Solving environment: done\n",
      "\n",
      "\n",
      "==> WARNING: A newer version of conda exists. <==\n",
      "  current version: 23.3.1\n",
      "  latest version: 23.5.0\n",
      "\n",
      "Please update conda by running\n",
      "\n",
      "    $ conda update -n base -c defaults conda\n",
      "\n",
      "Or to minimize the number of packages updated during conda update use\n",
      "\n",
      "     conda install conda=23.5.0\n",
      "\n",
      "\n",
      "\n",
      "# All requested packages already installed.\n",
      "\n",
      "\n",
      "Note: you may need to restart the kernel to use updated packages.\n"
     ]
    }
   ],
   "source": [
    "conda install -c conda-forge tensorflow"
   ]
  },
  {
   "cell_type": "code",
   "execution_count": 7,
   "metadata": {},
   "outputs": [],
   "source": [
    "from tensorflow.keras.models import Sequential, load_model\n",
    "from tensorflow.keras.layers import Dense\n",
    "from sklearn.metrics import accuracy_score"
   ]
  },
  {
   "cell_type": "markdown",
   "metadata": {},
   "source": [
    "# 2. Build and Compile Model"
   ]
  },
  {
   "cell_type": "code",
   "execution_count": 8,
   "metadata": {},
   "outputs": [],
   "source": [
    "model = Sequential()\n",
    "model.add(Dense(units=32, activation='relu', input_dim=len(X_train.columns)))\n",
    "model.add(Dense(units=64, activation='relu'))\n",
    "model.add(Dense(units=1, activation='sigmoid'))"
   ]
  },
  {
   "cell_type": "code",
   "execution_count": 9,
   "metadata": {},
   "outputs": [],
   "source": [
    "model.compile(loss='binary_crossentropy', optimizer='sgd', metrics='accuracy')"
   ]
  },
  {
   "cell_type": "markdown",
   "metadata": {},
   "source": [
    "# 3. Fit, Predict and Evaluate"
   ]
  },
  {
   "cell_type": "code",
   "execution_count": 10,
   "metadata": {},
   "outputs": [
    {
     "name": "stdout",
     "output_type": "stream",
     "text": [
      "Epoch 1/200\n",
      "  1/177 [..............................] - ETA: 25s - loss: 0.8302 - accuracy: 0.2812"
     ]
    },
    {
     "name": "stderr",
     "output_type": "stream",
     "text": [
      "2023-07-10 14:27:48.761974: W tensorflow/core/platform/profile_utils/cpu_utils.cc:128] Failed to get CPU frequency: 0 Hz\n"
     ]
    },
    {
     "name": "stdout",
     "output_type": "stream",
     "text": [
      "177/177 [==============================] - 0s 977us/step - loss: 0.5059 - accuracy: 0.7592\n",
      "Epoch 2/200\n",
      "177/177 [==============================] - 0s 942us/step - loss: 0.4889 - accuracy: 0.7741\n",
      "Epoch 3/200\n",
      "177/177 [==============================] - 0s 959us/step - loss: 0.4833 - accuracy: 0.7743\n",
      "Epoch 4/200\n",
      "177/177 [==============================] - 0s 974us/step - loss: 0.4754 - accuracy: 0.7824\n",
      "Epoch 5/200\n",
      "177/177 [==============================] - 0s 932us/step - loss: 0.4752 - accuracy: 0.7796\n",
      "Epoch 6/200\n",
      "177/177 [==============================] - 0s 937us/step - loss: 0.4720 - accuracy: 0.7775\n",
      "Epoch 7/200\n",
      "177/177 [==============================] - 0s 909us/step - loss: 0.4690 - accuracy: 0.7799\n",
      "Epoch 8/200\n",
      "177/177 [==============================] - 0s 902us/step - loss: 0.4616 - accuracy: 0.7844\n",
      "Epoch 9/200\n",
      "177/177 [==============================] - 0s 936us/step - loss: 0.4632 - accuracy: 0.7858\n",
      "Epoch 10/200\n",
      "177/177 [==============================] - 0s 945us/step - loss: 0.4646 - accuracy: 0.7814\n",
      "Epoch 11/200\n",
      "177/177 [==============================] - 0s 951us/step - loss: 0.4627 - accuracy: 0.7821\n",
      "Epoch 12/200\n",
      "177/177 [==============================] - 0s 939us/step - loss: 0.4613 - accuracy: 0.7803\n",
      "Epoch 13/200\n",
      "177/177 [==============================] - 0s 952us/step - loss: 0.4632 - accuracy: 0.7776\n",
      "Epoch 14/200\n",
      "177/177 [==============================] - 0s 937us/step - loss: 0.4576 - accuracy: 0.7849\n",
      "Epoch 15/200\n",
      "177/177 [==============================] - 0s 1ms/step - loss: 0.4596 - accuracy: 0.7824\n",
      "Epoch 16/200\n",
      "177/177 [==============================] - 0s 927us/step - loss: 0.4564 - accuracy: 0.7815\n",
      "Epoch 17/200\n",
      "177/177 [==============================] - 0s 894us/step - loss: 0.4572 - accuracy: 0.7808\n",
      "Epoch 18/200\n",
      "177/177 [==============================] - 0s 934us/step - loss: 0.4546 - accuracy: 0.7799\n",
      "Epoch 19/200\n",
      "177/177 [==============================] - 0s 939us/step - loss: 0.4538 - accuracy: 0.7863\n",
      "Epoch 20/200\n",
      "177/177 [==============================] - 0s 951us/step - loss: 0.4572 - accuracy: 0.7853\n",
      "Epoch 21/200\n",
      "177/177 [==============================] - 0s 954us/step - loss: 0.4526 - accuracy: 0.7814\n",
      "Epoch 22/200\n",
      "177/177 [==============================] - 0s 922us/step - loss: 0.4528 - accuracy: 0.7849\n",
      "Epoch 23/200\n",
      "177/177 [==============================] - 0s 936us/step - loss: 0.4521 - accuracy: 0.7842\n",
      "Epoch 24/200\n",
      "177/177 [==============================] - 0s 960us/step - loss: 0.4602 - accuracy: 0.7807\n",
      "Epoch 25/200\n",
      "177/177 [==============================] - 0s 935us/step - loss: 0.4493 - accuracy: 0.7844\n",
      "Epoch 26/200\n",
      "177/177 [==============================] - 0s 962us/step - loss: 0.4496 - accuracy: 0.7872\n",
      "Epoch 27/200\n",
      "177/177 [==============================] - 0s 938us/step - loss: 0.4480 - accuracy: 0.7862\n",
      "Epoch 28/200\n",
      "177/177 [==============================] - 0s 929us/step - loss: 0.4475 - accuracy: 0.7819\n",
      "Epoch 29/200\n",
      "177/177 [==============================] - 0s 947us/step - loss: 0.4512 - accuracy: 0.7835\n",
      "Epoch 30/200\n",
      "177/177 [==============================] - 0s 914us/step - loss: 0.4482 - accuracy: 0.7854\n",
      "Epoch 31/200\n",
      "177/177 [==============================] - 0s 951us/step - loss: 0.4457 - accuracy: 0.7897\n",
      "Epoch 32/200\n",
      "177/177 [==============================] - 0s 929us/step - loss: 0.4508 - accuracy: 0.7823\n",
      "Epoch 33/200\n",
      "177/177 [==============================] - 0s 964us/step - loss: 0.4492 - accuracy: 0.7842\n",
      "Epoch 34/200\n",
      "177/177 [==============================] - 0s 943us/step - loss: 0.4468 - accuracy: 0.7863\n",
      "Epoch 35/200\n",
      "177/177 [==============================] - 0s 929us/step - loss: 0.4467 - accuracy: 0.7856\n",
      "Epoch 36/200\n",
      "177/177 [==============================] - 0s 948us/step - loss: 0.4436 - accuracy: 0.7908\n",
      "Epoch 37/200\n",
      "177/177 [==============================] - 0s 996us/step - loss: 0.4462 - accuracy: 0.7874\n",
      "Epoch 38/200\n",
      "177/177 [==============================] - 0s 961us/step - loss: 0.4426 - accuracy: 0.7865\n",
      "Epoch 39/200\n",
      "177/177 [==============================] - 0s 955us/step - loss: 0.4427 - accuracy: 0.7886\n",
      "Epoch 40/200\n",
      "177/177 [==============================] - 0s 941us/step - loss: 0.4427 - accuracy: 0.7860\n",
      "Epoch 41/200\n",
      "177/177 [==============================] - 0s 924us/step - loss: 0.4443 - accuracy: 0.7879\n",
      "Epoch 42/200\n",
      "177/177 [==============================] - 0s 966us/step - loss: 0.4441 - accuracy: 0.7862\n",
      "Epoch 43/200\n",
      "177/177 [==============================] - 0s 930us/step - loss: 0.4449 - accuracy: 0.7881\n",
      "Epoch 44/200\n",
      "177/177 [==============================] - 0s 931us/step - loss: 0.4434 - accuracy: 0.7869\n",
      "Epoch 45/200\n",
      "177/177 [==============================] - 0s 953us/step - loss: 0.4425 - accuracy: 0.7869\n",
      "Epoch 46/200\n",
      "177/177 [==============================] - 0s 904us/step - loss: 0.4404 - accuracy: 0.7902\n",
      "Epoch 47/200\n",
      "177/177 [==============================] - 0s 984us/step - loss: 0.4395 - accuracy: 0.7862\n",
      "Epoch 48/200\n",
      "177/177 [==============================] - 0s 963us/step - loss: 0.4404 - accuracy: 0.7902\n",
      "Epoch 49/200\n",
      "177/177 [==============================] - 0s 1ms/step - loss: 0.4396 - accuracy: 0.7874\n",
      "Epoch 50/200\n",
      "177/177 [==============================] - 0s 982us/step - loss: 0.4424 - accuracy: 0.7863\n",
      "Epoch 51/200\n",
      "177/177 [==============================] - 0s 964us/step - loss: 0.4393 - accuracy: 0.7846\n",
      "Epoch 52/200\n",
      "177/177 [==============================] - 0s 958us/step - loss: 0.4385 - accuracy: 0.7897\n",
      "Epoch 53/200\n",
      "177/177 [==============================] - 0s 936us/step - loss: 0.4422 - accuracy: 0.7876\n",
      "Epoch 54/200\n",
      "177/177 [==============================] - 0s 956us/step - loss: 0.4388 - accuracy: 0.7844\n",
      "Epoch 55/200\n",
      "177/177 [==============================] - 0s 955us/step - loss: 0.4398 - accuracy: 0.7870\n",
      "Epoch 56/200\n",
      "177/177 [==============================] - 0s 983us/step - loss: 0.4393 - accuracy: 0.7874\n",
      "Epoch 57/200\n",
      "177/177 [==============================] - 0s 953us/step - loss: 0.4396 - accuracy: 0.7883\n",
      "Epoch 58/200\n",
      "177/177 [==============================] - 0s 941us/step - loss: 0.4375 - accuracy: 0.7902\n",
      "Epoch 59/200\n",
      "177/177 [==============================] - 0s 962us/step - loss: 0.4375 - accuracy: 0.7897\n",
      "Epoch 60/200\n",
      "177/177 [==============================] - 0s 1ms/step - loss: 0.4362 - accuracy: 0.7878\n",
      "Epoch 61/200\n",
      "177/177 [==============================] - 0s 951us/step - loss: 0.4381 - accuracy: 0.7909\n",
      "Epoch 62/200\n",
      "177/177 [==============================] - 0s 923us/step - loss: 0.4389 - accuracy: 0.7879\n",
      "Epoch 63/200\n",
      "177/177 [==============================] - 0s 1ms/step - loss: 0.4367 - accuracy: 0.7909\n",
      "Epoch 64/200\n",
      "177/177 [==============================] - 0s 1ms/step - loss: 0.4346 - accuracy: 0.7904\n",
      "Epoch 65/200\n",
      "177/177 [==============================] - 0s 1ms/step - loss: 0.4381 - accuracy: 0.7925\n",
      "Epoch 66/200\n",
      "177/177 [==============================] - 0s 1ms/step - loss: 0.4341 - accuracy: 0.7909\n",
      "Epoch 67/200\n",
      "177/177 [==============================] - 0s 1ms/step - loss: 0.4391 - accuracy: 0.7908\n",
      "Epoch 68/200\n",
      "177/177 [==============================] - 0s 1ms/step - loss: 0.4338 - accuracy: 0.7904\n",
      "Epoch 69/200\n",
      "177/177 [==============================] - 0s 949us/step - loss: 0.4345 - accuracy: 0.7867\n",
      "Epoch 70/200\n",
      "177/177 [==============================] - 0s 922us/step - loss: 0.4343 - accuracy: 0.7870\n",
      "Epoch 71/200\n",
      "177/177 [==============================] - 0s 962us/step - loss: 0.4370 - accuracy: 0.7863\n",
      "Epoch 72/200\n",
      "177/177 [==============================] - 0s 949us/step - loss: 0.4465 - accuracy: 0.7815\n",
      "Epoch 73/200\n",
      "177/177 [==============================] - 0s 940us/step - loss: 0.4367 - accuracy: 0.7894\n",
      "Epoch 74/200\n",
      "177/177 [==============================] - 0s 950us/step - loss: 0.4361 - accuracy: 0.7886\n",
      "Epoch 75/200\n",
      "177/177 [==============================] - 0s 966us/step - loss: 0.4320 - accuracy: 0.7909\n",
      "Epoch 76/200\n",
      "177/177 [==============================] - 0s 951us/step - loss: 0.4320 - accuracy: 0.7947\n",
      "Epoch 77/200\n",
      "177/177 [==============================] - 0s 1ms/step - loss: 0.4303 - accuracy: 0.7927\n",
      "Epoch 78/200\n",
      "177/177 [==============================] - 0s 899us/step - loss: 0.4317 - accuracy: 0.7895\n",
      "Epoch 79/200\n",
      "177/177 [==============================] - 0s 924us/step - loss: 0.4347 - accuracy: 0.7940\n",
      "Epoch 80/200\n"
     ]
    },
    {
     "name": "stdout",
     "output_type": "stream",
     "text": [
      "177/177 [==============================] - 0s 958us/step - loss: 0.4337 - accuracy: 0.7879\n",
      "Epoch 81/200\n",
      "177/177 [==============================] - 0s 926us/step - loss: 0.4336 - accuracy: 0.7899\n",
      "Epoch 82/200\n",
      "177/177 [==============================] - 0s 932us/step - loss: 0.4326 - accuracy: 0.7933\n",
      "Epoch 83/200\n",
      "177/177 [==============================] - 0s 923us/step - loss: 0.4306 - accuracy: 0.7920\n",
      "Epoch 84/200\n",
      "177/177 [==============================] - 0s 921us/step - loss: 0.4356 - accuracy: 0.7908\n",
      "Epoch 85/200\n",
      "177/177 [==============================] - 0s 942us/step - loss: 0.4315 - accuracy: 0.7904\n",
      "Epoch 86/200\n",
      "177/177 [==============================] - 0s 898us/step - loss: 0.4312 - accuracy: 0.7906\n",
      "Epoch 87/200\n",
      "177/177 [==============================] - 0s 934us/step - loss: 0.4302 - accuracy: 0.7929\n",
      "Epoch 88/200\n",
      "177/177 [==============================] - 0s 938us/step - loss: 0.4323 - accuracy: 0.7927\n",
      "Epoch 89/200\n",
      "177/177 [==============================] - 0s 939us/step - loss: 0.4307 - accuracy: 0.7879\n",
      "Epoch 90/200\n",
      "177/177 [==============================] - 0s 902us/step - loss: 0.4339 - accuracy: 0.7929\n",
      "Epoch 91/200\n",
      "177/177 [==============================] - 0s 947us/step - loss: 0.4319 - accuracy: 0.7954\n",
      "Epoch 92/200\n",
      "177/177 [==============================] - 0s 978us/step - loss: 0.4304 - accuracy: 0.7980\n",
      "Epoch 93/200\n",
      "177/177 [==============================] - 0s 943us/step - loss: 0.4338 - accuracy: 0.7901\n",
      "Epoch 94/200\n",
      "177/177 [==============================] - 0s 921us/step - loss: 0.4300 - accuracy: 0.7911\n",
      "Epoch 95/200\n",
      "177/177 [==============================] - 0s 915us/step - loss: 0.4297 - accuracy: 0.7862\n",
      "Epoch 96/200\n",
      "177/177 [==============================] - 0s 929us/step - loss: 0.4296 - accuracy: 0.7883\n",
      "Epoch 97/200\n",
      "177/177 [==============================] - 0s 958us/step - loss: 0.4271 - accuracy: 0.7929\n",
      "Epoch 98/200\n",
      "177/177 [==============================] - 0s 972us/step - loss: 0.4365 - accuracy: 0.7938\n",
      "Epoch 99/200\n",
      "177/177 [==============================] - 0s 936us/step - loss: 0.4278 - accuracy: 0.7899\n",
      "Epoch 100/200\n",
      "177/177 [==============================] - 0s 906us/step - loss: 0.4294 - accuracy: 0.7909\n",
      "Epoch 101/200\n",
      "177/177 [==============================] - 0s 940us/step - loss: 0.4325 - accuracy: 0.7895\n",
      "Epoch 102/200\n",
      "177/177 [==============================] - 0s 916us/step - loss: 0.4296 - accuracy: 0.7965\n",
      "Epoch 103/200\n",
      "177/177 [==============================] - 0s 916us/step - loss: 0.4305 - accuracy: 0.7936\n",
      "Epoch 104/200\n",
      "177/177 [==============================] - 0s 943us/step - loss: 0.4285 - accuracy: 0.7938\n",
      "Epoch 105/200\n",
      "177/177 [==============================] - 0s 944us/step - loss: 0.4286 - accuracy: 0.7943\n",
      "Epoch 106/200\n",
      "177/177 [==============================] - 0s 934us/step - loss: 0.4307 - accuracy: 0.7924\n",
      "Epoch 107/200\n",
      "177/177 [==============================] - 0s 939us/step - loss: 0.4290 - accuracy: 0.7938\n",
      "Epoch 108/200\n",
      "177/177 [==============================] - 0s 928us/step - loss: 0.4300 - accuracy: 0.7956\n",
      "Epoch 109/200\n",
      "177/177 [==============================] - 0s 916us/step - loss: 0.4286 - accuracy: 0.7950\n",
      "Epoch 110/200\n",
      "177/177 [==============================] - 0s 946us/step - loss: 0.4280 - accuracy: 0.7947\n",
      "Epoch 111/200\n",
      "177/177 [==============================] - 0s 932us/step - loss: 0.4264 - accuracy: 0.7945\n",
      "Epoch 112/200\n",
      "177/177 [==============================] - 0s 936us/step - loss: 0.4273 - accuracy: 0.7968\n",
      "Epoch 113/200\n",
      "177/177 [==============================] - 0s 919us/step - loss: 0.4304 - accuracy: 0.7924\n",
      "Epoch 114/200\n",
      "177/177 [==============================] - 0s 925us/step - loss: 0.4271 - accuracy: 0.7920\n",
      "Epoch 115/200\n",
      "177/177 [==============================] - 0s 962us/step - loss: 0.4242 - accuracy: 0.7943\n",
      "Epoch 116/200\n",
      "177/177 [==============================] - 0s 965us/step - loss: 0.4262 - accuracy: 0.7957\n",
      "Epoch 117/200\n",
      "177/177 [==============================] - 0s 939us/step - loss: 0.4448 - accuracy: 0.7876\n",
      "Epoch 118/200\n",
      "177/177 [==============================] - 0s 961us/step - loss: 0.4302 - accuracy: 0.7901\n",
      "Epoch 119/200\n",
      "177/177 [==============================] - 0s 1ms/step - loss: 0.4267 - accuracy: 0.7934\n",
      "Epoch 120/200\n",
      "177/177 [==============================] - 0s 1ms/step - loss: 0.4248 - accuracy: 0.7970\n",
      "Epoch 121/200\n",
      "177/177 [==============================] - 0s 1ms/step - loss: 0.4265 - accuracy: 0.7970\n",
      "Epoch 122/200\n",
      "177/177 [==============================] - 0s 1ms/step - loss: 0.4275 - accuracy: 0.7979\n",
      "Epoch 123/200\n",
      "177/177 [==============================] - 0s 1ms/step - loss: 0.4284 - accuracy: 0.7956\n",
      "Epoch 124/200\n",
      "177/177 [==============================] - 0s 1ms/step - loss: 0.4253 - accuracy: 0.7941\n",
      "Epoch 125/200\n",
      "177/177 [==============================] - 0s 1ms/step - loss: 0.4264 - accuracy: 0.7922\n",
      "Epoch 126/200\n",
      "177/177 [==============================] - 0s 1ms/step - loss: 0.4298 - accuracy: 0.7925\n",
      "Epoch 127/200\n",
      "177/177 [==============================] - 0s 1ms/step - loss: 0.4231 - accuracy: 0.7968\n",
      "Epoch 128/200\n",
      "177/177 [==============================] - 0s 1ms/step - loss: 0.4267 - accuracy: 0.7915\n",
      "Epoch 129/200\n",
      "177/177 [==============================] - 0s 1ms/step - loss: 0.4261 - accuracy: 0.7986\n",
      "Epoch 130/200\n",
      "177/177 [==============================] - 0s 927us/step - loss: 0.4235 - accuracy: 0.7984\n",
      "Epoch 131/200\n",
      "177/177 [==============================] - 0s 880us/step - loss: 0.4225 - accuracy: 0.7933\n",
      "Epoch 132/200\n",
      "177/177 [==============================] - 0s 861us/step - loss: 0.4264 - accuracy: 0.7949\n",
      "Epoch 133/200\n",
      "177/177 [==============================] - 0s 861us/step - loss: 0.4241 - accuracy: 0.7918\n",
      "Epoch 134/200\n",
      "177/177 [==============================] - 0s 871us/step - loss: 0.4263 - accuracy: 0.7968\n",
      "Epoch 135/200\n",
      "177/177 [==============================] - 0s 855us/step - loss: 0.4260 - accuracy: 0.7979\n",
      "Epoch 136/200\n",
      "177/177 [==============================] - 0s 868us/step - loss: 0.4234 - accuracy: 0.7941\n",
      "Epoch 137/200\n",
      "177/177 [==============================] - 0s 874us/step - loss: 0.4247 - accuracy: 0.7945\n",
      "Epoch 138/200\n",
      "177/177 [==============================] - 0s 877us/step - loss: 0.4248 - accuracy: 0.7943\n",
      "Epoch 139/200\n",
      "177/177 [==============================] - 0s 852us/step - loss: 0.4241 - accuracy: 0.7940\n",
      "Epoch 140/200\n",
      "177/177 [==============================] - 0s 857us/step - loss: 0.4242 - accuracy: 0.7961\n",
      "Epoch 141/200\n",
      "177/177 [==============================] - 0s 860us/step - loss: 0.4279 - accuracy: 0.7924\n",
      "Epoch 142/200\n",
      "177/177 [==============================] - 0s 867us/step - loss: 0.4238 - accuracy: 0.7941\n",
      "Epoch 143/200\n",
      "177/177 [==============================] - 0s 956us/step - loss: 0.4253 - accuracy: 0.7943\n",
      "Epoch 144/200\n",
      "177/177 [==============================] - 0s 907us/step - loss: 0.4218 - accuracy: 0.7991\n",
      "Epoch 145/200\n",
      "177/177 [==============================] - 0s 894us/step - loss: 0.4240 - accuracy: 0.7959\n",
      "Epoch 146/200\n",
      "177/177 [==============================] - 0s 908us/step - loss: 0.4218 - accuracy: 0.7982\n",
      "Epoch 147/200\n",
      "177/177 [==============================] - 0s 906us/step - loss: 0.4231 - accuracy: 0.7988\n",
      "Epoch 148/200\n",
      "177/177 [==============================] - 0s 926us/step - loss: 0.4255 - accuracy: 0.7977\n",
      "Epoch 149/200\n",
      "177/177 [==============================] - 0s 914us/step - loss: 0.4285 - accuracy: 0.7943\n",
      "Epoch 150/200\n",
      "177/177 [==============================] - 0s 888us/step - loss: 0.4235 - accuracy: 0.7957\n",
      "Epoch 151/200\n",
      "177/177 [==============================] - 0s 904us/step - loss: 0.4243 - accuracy: 0.7940\n",
      "Epoch 152/200\n",
      "177/177 [==============================] - 0s 891us/step - loss: 0.4253 - accuracy: 0.7915\n",
      "Epoch 153/200\n",
      "177/177 [==============================] - 0s 916us/step - loss: 0.4229 - accuracy: 0.7973\n",
      "Epoch 154/200\n",
      "177/177 [==============================] - 0s 891us/step - loss: 0.4227 - accuracy: 0.7961\n",
      "Epoch 155/200\n",
      "177/177 [==============================] - 0s 985us/step - loss: 0.4237 - accuracy: 0.7968\n",
      "Epoch 156/200\n",
      "177/177 [==============================] - 0s 955us/step - loss: 0.4248 - accuracy: 0.7938\n",
      "Epoch 157/200\n",
      "177/177 [==============================] - 0s 931us/step - loss: 0.4237 - accuracy: 0.7956\n",
      "Epoch 158/200\n"
     ]
    },
    {
     "name": "stdout",
     "output_type": "stream",
     "text": [
      "177/177 [==============================] - 0s 1ms/step - loss: 0.4216 - accuracy: 0.8007\n",
      "Epoch 159/200\n",
      "177/177 [==============================] - 0s 1ms/step - loss: 0.4242 - accuracy: 0.7927\n",
      "Epoch 160/200\n",
      "177/177 [==============================] - 0s 1ms/step - loss: 0.4257 - accuracy: 0.7989\n",
      "Epoch 161/200\n",
      "177/177 [==============================] - 0s 970us/step - loss: 0.4227 - accuracy: 0.7950\n",
      "Epoch 162/200\n",
      "177/177 [==============================] - 0s 882us/step - loss: 0.4218 - accuracy: 0.7995\n",
      "Epoch 163/200\n",
      "177/177 [==============================] - 0s 890us/step - loss: 0.4228 - accuracy: 0.7952\n",
      "Epoch 164/200\n",
      "177/177 [==============================] - 0s 879us/step - loss: 0.4238 - accuracy: 0.7989\n",
      "Epoch 165/200\n",
      "177/177 [==============================] - 0s 902us/step - loss: 0.4234 - accuracy: 0.7952\n",
      "Epoch 166/200\n",
      "177/177 [==============================] - 0s 890us/step - loss: 0.4206 - accuracy: 0.7968\n",
      "Epoch 167/200\n",
      "177/177 [==============================] - 0s 895us/step - loss: 0.4250 - accuracy: 0.7922\n",
      "Epoch 168/200\n",
      "177/177 [==============================] - 0s 895us/step - loss: 0.4224 - accuracy: 0.7929\n",
      "Epoch 169/200\n",
      "177/177 [==============================] - 0s 909us/step - loss: 0.4207 - accuracy: 0.8000\n",
      "Epoch 170/200\n",
      "177/177 [==============================] - 0s 902us/step - loss: 0.4267 - accuracy: 0.7949\n",
      "Epoch 171/200\n",
      "177/177 [==============================] - 0s 894us/step - loss: 0.4244 - accuracy: 0.7947\n",
      "Epoch 172/200\n",
      "177/177 [==============================] - 0s 895us/step - loss: 0.4208 - accuracy: 0.8012\n",
      "Epoch 173/200\n",
      "177/177 [==============================] - 0s 897us/step - loss: 0.4210 - accuracy: 0.7938\n",
      "Epoch 174/200\n",
      "177/177 [==============================] - 0s 886us/step - loss: 0.4196 - accuracy: 0.8016\n",
      "Epoch 175/200\n",
      "177/177 [==============================] - 0s 882us/step - loss: 0.4213 - accuracy: 0.7970\n",
      "Epoch 176/200\n",
      "177/177 [==============================] - 0s 879us/step - loss: 0.4207 - accuracy: 0.7973\n",
      "Epoch 177/200\n",
      "177/177 [==============================] - 0s 888us/step - loss: 0.4200 - accuracy: 0.7957\n",
      "Epoch 178/200\n",
      "177/177 [==============================] - 0s 891us/step - loss: 0.4199 - accuracy: 0.7991\n",
      "Epoch 179/200\n",
      "177/177 [==============================] - 0s 894us/step - loss: 0.4218 - accuracy: 0.7927\n",
      "Epoch 180/200\n",
      "177/177 [==============================] - 0s 885us/step - loss: 0.4219 - accuracy: 0.7956\n",
      "Epoch 181/200\n",
      "177/177 [==============================] - 0s 888us/step - loss: 0.4217 - accuracy: 0.7952\n",
      "Epoch 182/200\n",
      "177/177 [==============================] - 0s 905us/step - loss: 0.4208 - accuracy: 0.8004\n",
      "Epoch 183/200\n",
      "177/177 [==============================] - 0s 881us/step - loss: 0.4199 - accuracy: 0.7973\n",
      "Epoch 184/200\n",
      "177/177 [==============================] - 0s 889us/step - loss: 0.4230 - accuracy: 0.7922\n",
      "Epoch 185/200\n",
      "177/177 [==============================] - 0s 874us/step - loss: 0.4219 - accuracy: 0.7952\n",
      "Epoch 186/200\n",
      "177/177 [==============================] - 0s 893us/step - loss: 0.4215 - accuracy: 0.7989\n",
      "Epoch 187/200\n",
      "177/177 [==============================] - 0s 913us/step - loss: 0.4223 - accuracy: 0.7920\n",
      "Epoch 188/200\n",
      "177/177 [==============================] - 0s 892us/step - loss: 0.4199 - accuracy: 0.7952\n",
      "Epoch 189/200\n",
      "177/177 [==============================] - 0s 888us/step - loss: 0.4232 - accuracy: 0.7913\n",
      "Epoch 190/200\n",
      "177/177 [==============================] - 0s 994us/step - loss: 0.4212 - accuracy: 0.7986\n",
      "Epoch 191/200\n",
      "177/177 [==============================] - 0s 895us/step - loss: 0.4225 - accuracy: 0.7959\n",
      "Epoch 192/200\n",
      "177/177 [==============================] - 0s 891us/step - loss: 0.4223 - accuracy: 0.7991\n",
      "Epoch 193/200\n",
      "177/177 [==============================] - 0s 890us/step - loss: 0.4213 - accuracy: 0.7984\n",
      "Epoch 194/200\n",
      "177/177 [==============================] - 0s 894us/step - loss: 0.4191 - accuracy: 0.7977\n",
      "Epoch 195/200\n",
      "177/177 [==============================] - 0s 879us/step - loss: 0.4190 - accuracy: 0.8005\n",
      "Epoch 196/200\n",
      "177/177 [==============================] - 0s 881us/step - loss: 0.4199 - accuracy: 0.7984\n",
      "Epoch 197/200\n",
      "177/177 [==============================] - 0s 993us/step - loss: 0.4202 - accuracy: 0.8023\n",
      "Epoch 198/200\n",
      "177/177 [==============================] - 0s 885us/step - loss: 0.4186 - accuracy: 0.8002\n",
      "Epoch 199/200\n",
      "177/177 [==============================] - 0s 890us/step - loss: 0.4226 - accuracy: 0.7963\n",
      "Epoch 200/200\n",
      "177/177 [==============================] - 0s 889us/step - loss: 0.4193 - accuracy: 0.7945\n"
     ]
    },
    {
     "data": {
      "text/plain": [
       "<keras.callbacks.History at 0x169a32da0>"
      ]
     },
     "execution_count": 10,
     "metadata": {},
     "output_type": "execute_result"
    }
   ],
   "source": [
    "model.fit(X_train, y_train, epochs=200, batch_size=32)"
   ]
  },
  {
   "cell_type": "code",
   "execution_count": 11,
   "metadata": {},
   "outputs": [
    {
     "name": "stdout",
     "output_type": "stream",
     "text": [
      "45/45 [==============================] - 0s 701us/step\n"
     ]
    }
   ],
   "source": [
    "y_hat = model.predict(X_test)\n",
    "y_hat = [0 if val < 0.5 else 1 for val in y_hat]"
   ]
  },
  {
   "cell_type": "code",
   "execution_count": 12,
   "metadata": {},
   "outputs": [
    {
     "data": {
      "text/plain": [
       "0.8005677785663591"
      ]
     },
     "execution_count": 12,
     "metadata": {},
     "output_type": "execute_result"
    }
   ],
   "source": [
    "accuracy_score(y_test, y_hat)"
   ]
  },
  {
   "cell_type": "markdown",
   "metadata": {},
   "source": [
    "# 4. Saving and Reloading"
   ]
  },
  {
   "cell_type": "code",
   "execution_count": 13,
   "metadata": {},
   "outputs": [
    {
     "name": "stdout",
     "output_type": "stream",
     "text": [
      "INFO:tensorflow:Assets written to: tfmodel/assets\n"
     ]
    }
   ],
   "source": [
    "model.save('tfmodel')"
   ]
  },
  {
   "cell_type": "code",
   "execution_count": 14,
   "metadata": {},
   "outputs": [],
   "source": [
    "del model "
   ]
  },
  {
   "cell_type": "code",
   "execution_count": 15,
   "metadata": {},
   "outputs": [],
   "source": [
    "model = load_model('tfmodel')"
   ]
  }
 ],
 "metadata": {
  "kernelspec": {
   "display_name": "Python 3 (ipykernel)",
   "language": "python",
   "name": "python3"
  },
  "language_info": {
   "codemirror_mode": {
    "name": "ipython",
    "version": 3
   },
   "file_extension": ".py",
   "mimetype": "text/x-python",
   "name": "python",
   "nbconvert_exporter": "python",
   "pygments_lexer": "ipython3",
   "version": "3.10.9"
  }
 },
 "nbformat": 4,
 "nbformat_minor": 2
}
