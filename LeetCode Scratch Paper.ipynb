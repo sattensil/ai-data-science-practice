{
 "cells": [
  {
   "cell_type": "code",
   "execution_count": null,
   "id": "eca04701",
   "metadata": {},
   "outputs": [],
   "source": [
    "word1 = \"abcd\"\n",
    "word2 = \"pq\""
   ]
  },
  {
   "cell_type": "code",
   "execution_count": null,
   "id": "ab4bb90f",
   "metadata": {},
   "outputs": [],
   "source": [
    "result  = ''\n",
    "for i in range(max(len(word1),len(word2))):\n",
    "    if i >= len(word2) - 1:\n",
    "        result = result + word1[i]\n",
    "    elif i >= len(word1) - 1:\n",
    "        result = result + word2[i]\n",
    "    else:\n",
    "        result = result + word1[i] + word2[i]\n",
    "\n",
    "result\n",
    "    \n",
    "    "
   ]
  },
  {
   "cell_type": "code",
   "execution_count": null,
   "id": "9674b7c8",
   "metadata": {},
   "outputs": [],
   "source": [
    "for x in range(3):\n",
    "  print(x)"
   ]
  },
  {
   "cell_type": "code",
   "execution_count": null,
   "id": "b647687d",
   "metadata": {},
   "outputs": [],
   "source": [
    "str1 = \"ABCABC\"\n",
    "str2 = \"ABC\""
   ]
  },
  {
   "cell_type": "code",
   "execution_count": null,
   "id": "2e47fad6",
   "metadata": {},
   "outputs": [],
   "source": [
    "a = ''\n",
    "for i in range(1,len(str1)+1):\n",
    "    if (len(str1)/len(str1[:i])).is_integer():\n",
    "        n = int(len(str1)/len(str1[:i]))\n",
    "        if str1 == str1[:i]*n:\n",
    "            a = str1[:i]\n",
    "a"
   ]
  },
  {
   "cell_type": "code",
   "execution_count": null,
   "id": "cb0b244a",
   "metadata": {},
   "outputs": [],
   "source": [
    "b = ''\n",
    "for i in range(1,len(str2)+1):\n",
    "    if (len(str2)/len(str2[:i])).is_integer():\n",
    "        n = int(len(str2)/len(str2[:i]))\n",
    "        if str2 == str2[:i]*n:\n",
    "            b = str2[:i]\n",
    "b"
   ]
  },
  {
   "cell_type": "code",
   "execution_count": null,
   "id": "55f06ed1",
   "metadata": {},
   "outputs": [],
   "source": [
    "a = ''\n",
    "b = ''\n",
    "for i in range(1,len(str1)):\n",
    "    if (len(str1)/len(str1[:i])).is_integer():\n",
    "        n = int(len(str1)/len(str1[:i]))\n",
    "        if str1 == str1[:i]*n:\n",
    "            a = str1[:i]\n",
    "    if (len(str2)/len(str2[:i])).is_integer():\n",
    "        n = int(len(str2)/len(str2[:i]))\n",
    "        if str2 == str2[:i]*n:\n",
    "            b = str2[:i]\n",
    "a==b"
   ]
  },
  {
   "cell_type": "code",
   "execution_count": null,
   "id": "051762a2",
   "metadata": {},
   "outputs": [],
   "source": [
    "def gcdOfStrings(self, str1: str, str2: str) -> str:\n",
    "    def gcd(a: int, b: int) -> int:\n",
    "        return b if a == 0 else gcd(b % a, a)\n",
    "    d = gcd(len(str1), len(str2))\n",
    "    return str1[: d] if str1[: d] * (len(str2) // d) == str2 and str2[: d] * (len(str1) // d) == str1 else ''\n",
    "    "
   ]
  },
  {
   "cell_type": "code",
   "execution_count": null,
   "id": "1069b15a",
   "metadata": {},
   "outputs": [],
   "source": [
    "gcdOfStrings(gcdOfStrings, str1, str2)"
   ]
  },
  {
   "cell_type": "code",
   "execution_count": null,
   "id": "f990cfec",
   "metadata": {},
   "outputs": [],
   "source": [
    "def gcd(a: int, b: int) -> int:\n",
    "    return b if a == 0 else gcd(b % a, a)\n",
    "gcd(len(str1), len(str2))"
   ]
  },
  {
   "cell_type": "code",
   "execution_count": null,
   "id": "ae076a8e",
   "metadata": {},
   "outputs": [],
   "source": [
    "def gcd(a: int, b: int) -> int:\n",
    "    if a == 0:\n",
    "        return b \n",
    "    else: \n",
    "        return gcd(b % a, a)\n",
    "        \n",
    "gcd(len(str1), len(str2))"
   ]
  },
  {
   "cell_type": "code",
   "execution_count": null,
   "id": "242fce17",
   "metadata": {},
   "outputs": [],
   "source": [
    "gcd(len(str1), len(str2))"
   ]
  },
  {
   "cell_type": "code",
   "execution_count": null,
   "id": "84a3aa73",
   "metadata": {},
   "outputs": [],
   "source": [
    "len(str2) % len(str1)"
   ]
  },
  {
   "cell_type": "code",
   "execution_count": 93,
   "id": "e1a5dc02",
   "metadata": {},
   "outputs": [],
   "source": [
    "candies = [2,3,5,1,3]\n",
    "extraCandies = 3"
   ]
  },
  {
   "cell_type": "code",
   "execution_count": 86,
   "id": "9d63b11a",
   "metadata": {},
   "outputs": [
    {
     "data": {
      "text/plain": [
       "[True, True, True, False, True]"
      ]
     },
     "execution_count": 86,
     "metadata": {},
     "output_type": "execute_result"
    }
   ],
   "source": [
    "result = [False] * len(candies)\n",
    "for i in range(len(candies)):\n",
    "    amount = candies[i] + extraCandies \n",
    "    result[i] = (amount >= max(candies))\n",
    "result"
   ]
  },
  {
   "cell_type": "code",
   "execution_count": 96,
   "id": "9d4b41d3",
   "metadata": {},
   "outputs": [
    {
     "data": {
      "text/plain": [
       "[False, False, False, False, False]"
      ]
     },
     "execution_count": 96,
     "metadata": {},
     "output_type": "execute_result"
    }
   ],
   "source": [
    "def kidsWithCandies(self, candies, extraCandies: int):\n",
    "    r = [False] * len(candies)\n",
    "    for i in range(len(candies)):\n",
    "        result[i] = ([x.__add__(extraCandies) for x in candies][i] >= max(candies)\n",
    "    return r\n",
    "\n",
    "kidsWithCandies(kidsWithCandies, candies, extraCandies)"
   ]
  },
  {
   "cell_type": "code",
   "execution_count": 100,
   "id": "4dfd5719",
   "metadata": {},
   "outputs": [
    {
     "data": {
      "text/plain": [
       "[True, True, True, False, True]"
      ]
     },
     "execution_count": 100,
     "metadata": {},
     "output_type": "execute_result"
    }
   ],
   "source": [
    "[x.__add__(extraCandies) >= max(candies) for x in candies]"
   ]
  },
  {
   "cell_type": "code",
   "execution_count": 190,
   "id": "6746b2c4",
   "metadata": {},
   "outputs": [],
   "source": [
    "flowerbed = [0]\n",
    "n = 1"
   ]
  },
  {
   "cell_type": "code",
   "execution_count": 183,
   "id": "db6a06dc",
   "metadata": {},
   "outputs": [
    {
     "data": {
      "text/plain": [
       "0"
      ]
     },
     "execution_count": 183,
     "metadata": {},
     "output_type": "execute_result"
    }
   ],
   "source": [
    "flowerbed[4] "
   ]
  },
  {
   "cell_type": "code",
   "execution_count": 191,
   "id": "3fc74a6b",
   "metadata": {},
   "outputs": [
    {
     "data": {
      "text/plain": [
       "True"
      ]
     },
     "execution_count": 191,
     "metadata": {},
     "output_type": "execute_result"
    }
   ],
   "source": [
    "old = sum(flowerbed)\n",
    "if flowerbed in ([0 ,0],[0]):\n",
    "    new = 1\n",
    "else: \n",
    "    if flowerbed[:2] == [0 ,0]:\n",
    "        flowerbed[0] = 1\n",
    "    for i in range(1,len(flowerbed)):\n",
    "        if flowerbed[i-1:] == [0,0]:\n",
    "            flowerbed[i] = 1\n",
    "        elif i < len(flowerbed)-1:\n",
    "            if flowerbed[i-1:i+2] == [0,0,0]:\n",
    "                flowerbed[i] = 1\n",
    "    new = sum(flowerbed)\n",
    "new - old >= n    "
   ]
  },
  {
   "cell_type": "code",
   "execution_count": 159,
   "id": "c85a8d70",
   "metadata": {},
   "outputs": [
    {
     "data": {
      "text/plain": [
       "2"
      ]
     },
     "execution_count": 159,
     "metadata": {},
     "output_type": "execute_result"
    }
   ],
   "source": [
    "new"
   ]
  },
  {
   "cell_type": "code",
   "execution_count": 160,
   "id": "211b64c2",
   "metadata": {},
   "outputs": [
    {
     "data": {
      "text/plain": [
       "2"
      ]
     },
     "execution_count": 160,
     "metadata": {},
     "output_type": "execute_result"
    }
   ],
   "source": [
    "old"
   ]
  },
  {
   "cell_type": "code",
   "execution_count": 194,
   "id": "97f737d0",
   "metadata": {},
   "outputs": [],
   "source": [
    "flowerbed = [0]\n",
    "n = 1"
   ]
  },
  {
   "cell_type": "code",
   "execution_count": 203,
   "id": "bccea1de",
   "metadata": {},
   "outputs": [
    {
     "data": {
      "text/plain": [
       "True"
      ]
     },
     "execution_count": 203,
     "metadata": {},
     "output_type": "execute_result"
    }
   ],
   "source": [
    "old = sum(flowerbed)\n",
    "min_l = len(flowerbed)\n",
    "for i in range(len(flowerbed)):\n",
    "    if sum(flowerbed[max(0,i-1):min(min_l,i+2)]) == 0:\n",
    "        flowerbed[i] = 1\n",
    "new = sum(flowerbed)\n",
    "    \n",
    "new - old >= n    "
   ]
  },
  {
   "cell_type": "code",
   "execution_count": 202,
   "id": "af30254e",
   "metadata": {},
   "outputs": [
    {
     "data": {
      "text/plain": [
       "[0]"
      ]
     },
     "execution_count": 202,
     "metadata": {},
     "output_type": "execute_result"
    }
   ],
   "source": [
    "flowerbed"
   ]
  },
  {
   "cell_type": "code",
   "execution_count": 304,
   "id": "d49b2972",
   "metadata": {},
   "outputs": [],
   "source": [
    "nums = [0,0,1]"
   ]
  },
  {
   "cell_type": "code",
   "execution_count": 247,
   "id": "ff276e53",
   "metadata": {},
   "outputs": [],
   "source": [
    "zeros = [x == 0 for x in nums]\n",
    "nums = [nums[i] for i in range(len(nums)) if not zeros[i]]\n",
    "nums += [0]*sum(zeros)"
   ]
  },
  {
   "cell_type": "code",
   "execution_count": 293,
   "id": "15d0cbad",
   "metadata": {},
   "outputs": [
    {
     "data": {
      "text/plain": [
       "[0, 0, 1]"
      ]
     },
     "execution_count": 293,
     "metadata": {},
     "output_type": "execute_result"
    }
   ],
   "source": [
    "nums"
   ]
  },
  {
   "cell_type": "code",
   "execution_count": 301,
   "id": "36e5aadb",
   "metadata": {},
   "outputs": [
    {
     "data": {
      "text/plain": [
       "2"
      ]
     },
     "execution_count": 301,
     "metadata": {},
     "output_type": "execute_result"
    }
   ],
   "source": [
    "sum([x == 0 for x in nums])"
   ]
  },
  {
   "cell_type": "code",
   "execution_count": 305,
   "id": "d9cd9246",
   "metadata": {},
   "outputs": [
    {
     "data": {
      "text/plain": [
       "[1, 0, 0]"
      ]
     },
     "execution_count": 305,
     "metadata": {},
     "output_type": "execute_result"
    }
   ],
   "source": [
    "for i in range(len(nums)-sum([x == 0 for x in nums])):\n",
    "    x = nums[i]\n",
    "    while x == 0:\n",
    "        nums.append(0)\n",
    "        nums.pop(i)\n",
    "        x = nums[i]\n",
    "nums\n"
   ]
  },
  {
   "cell_type": "code",
   "execution_count": null,
   "id": "7ec07bea",
   "metadata": {},
   "outputs": [],
   "source": [
    "nums"
   ]
  },
  {
   "cell_type": "code",
   "execution_count": 396,
   "id": "7b888a63",
   "metadata": {},
   "outputs": [],
   "source": [
    "s = \"leeeeetcode\"\n",
    "t = \"yyyyylyyyyyyyyyyyyyyyyyyyyyyyyyyyyyyyyyyyyyyyyyyyyyyyyyyyyyyyyyyyyyyyyyyyyyyyyyyyyyyyyyyyyyyyyyyyyyyyyyyyyyyyyyyyyyyyyyyyyyyyyyyyyyyyyyyyyyyyyyyyyyyyyyyyyyyyyyyyyyyyyyyyyyyyyyyyyyyyyyyyyyyyyyyyyyyyyyyyyyyyyyyyyyyyyyyyyyyyyyyyyyyyyyyyyyyyyyyyyyyyyyyyyyyyyyyyyyyyyyyyyyyyyyyyyyyyyyyyyyyyyyyyyyyyyyyyyyyyyyyyyyyyyyyyyyyyyyyyyyyyyyyyyyyyyyyyyyyyyyyyyyyyyyyyyyyyyyyyyyyyyyyyyyyyyyyyyyyyyyyyyyyyyyyyyyyyyyyeyyyyyyyyyyyyyyyyyyyyyyyyyyyyyyyyyyyyyyyyyyyyyyyyyyyyyyyyyyyyyyyyyyyyyyyyyyyyyyyyyyyyyyyyyyyyyyyyyyyyyyyyyyyyyyyyyyyyyyyyyyyyyyyyyyyyyyyyyyyyyyyyyyyyyyyyyyyyyyyyyyyyyyyyyyyyyyyyyyyyyyyyyyyyyyyyyyyyyyyyyyyyyyyyyyyyyyyyyyyyyyyyyyyyyyyyyyyyyyyyyyyyyyyyyyyyyyyyyyyyyyyyyyyyyyyyyyyyyyyyyyyyyyyyyyyyyyyyyyyyyyyyyyyyyyyyyyyyyyyyyyyyyyyyyyyyyyyyyyyyyyyyyyyyyyyyyyyyyyyyyyyyyyyyyyyyyyyyyyyyyyyyyyyyyyyyyyyyyyyyyyyyyyyyyyyyyyyyyyyyyyyyyyyyyyyyyyyyyyyyyyyyyyyyyyyyyyyyyyyyyyyyyyyyyyyyyyyyyyyyyyyyyyyyyyyyyyyyyyyyyyyyyyyyyyyyyyyyyyyyyyyyyyyyyyyyyyyyyyyyyyyyyyyyyyyyyyyyyyyyyyyyyyyyyyyyyyyyyyyyyyyyyyyyyyyyyyyyyyyyyyyyyyyyyyyyyyyyyyyyyyyyyyyyyyyyyyyyyyyyyyyyyyyyyyyyyyyyyyyyyyyyyyyyyyyyyyyyyyyyyyyyyyyyyyyyyyyyyyyyyyyyyyyyyyyyyyyyyyyyyyyyyyyyyyyyyyyyyyyyyyyyyyyyyyyyyyyyyyyyyyyyyyyyyyyyyyyyyyyyyyyyyyyyyyyyyyyyyyyyyyyyyyyyyyyyyyyyyyyyyyyyyyyyyyyyyyyyyyyyyyyyyyyyyyyyyyyyyyyyyyyyyyyyyyyyyyyyyyyyyyyyyyyyyyyyyyyyyyyyyyyyyyyyyyyyyyyyyyyyyyyyyyyyyyyyyyyyyyyyyyyyyyyyyyyyyyyyyyyyyyyyyyyyyyyyyyyyyyyyyyyyyyyyyyyyyyyyyyyyyyyyyyyyyyyyyyyyyyyyyyyyyyyyyyyyyyyyyyyyyyyyyyyyyyyyyyyyyyyyyyyyyyyyyyyyyyyyyyyyyyyyyyyyyyyyyyyyyyyyyyyyyyyyyyyyyyyyyyyyyyyyyyyyyyyyyyyyyyyyyyyyyyyyyyyyyyyyyyyyyyyyyyyyyyyyyyyyyyyyyyyyyyyyyyyyyyyyyyyyyyyyyyyyyyyyyyyyyyyyyyyyyyyyyyyyyyyyyyyyyyyyyyyyyyyyyyyyyyyyyyyyyyyyyyyyyyyyyyyyyyyyyyyyyyyyyyyyyyyeyyyyyyyyyyyyyyyyyyyyyyyyyyyyyyyyyyyyyyyyyyyyyyyyyyyyyyyyyyyyyyyyyyyyyyyyyyyyyyyyyyyyyyyyyyyyyyyyyyyyyyyyyyyyyyyyyyyyyyyyyyyyyyyyyyyyyyyyyyyyyyyyyyyyyyyyyyyyyyyyyyyyyyyyyyyyyyyyyyyyyyyyyyyyyyyyyyyyyyyyyyyyyyyyyyyyyyyyyyyyyyyyyyyyyyyyyyyyyyyyyyyyyyyyyyyyyyyyyyyyyyyyyyyyyyyyyyyyyyyyyyyyyyyyyyyyyyyyyyyyyyyyyyyyyyyyyyyyyyyyyyyyyyyyyyyyyyyyyyyyyyyyyyyyyyyyyyyyyyyyyyyyyyyyyyyyyyyyyyyyyyyyyyyyyyyyyyyyyyyyyyyyyyyyyyyyyyyyyyyyyyyyyyyyyyyyyyyyyyyyyyyyyyyyyyyyyyyyyyyyyyyyyyyyyyyyyyyyyyyyyyyyyyyyyyyyyyyyyyyyyyyyyyyyyyyyyyyyyyyyyyyyyyyyyyyyyyyyyyyyyyyyyyyyyyyyyyyyyyyyyyyyyyyyyyyyyyyyyyyyyyyyyyyyyyyyyyyyyyyyyyyyyyyyyyyyyyyyyyyyyyyyyyyyyyyyyyyyyyyyyyyyyyyyyyyyyyyyyyyyyyyyyyyyyyyyyyyyyyyyyyyyyyyyyyyyyyyyyyyyyyyyyyyyyyyyyyyyyyyyyyyyyyyyyyyyyyyyyyyyyyyyyyyyyyyyyyyyyyyyyyyyyyyyyyyyyyyyyyyyyyyyyyyyyyyyyyyyyyyyyyyyyyyyyyyyyyyyyyyyyyyyyyyyyyyyyyyyyyyyyyyyyyyyyyyyyyyyyyyyyyyyyyyyyyyyyyyyyyyyyyyyyyyyyyyyyyyyyyyyyyyyyyyyyyyyyyyyyyyyyyyyyyyyyyyyyyyyyyyyyyyyyyyyyyyyyyyyyyyyyyyyyyyyyyyyyyyyyyyyyyyyyyyyyyyyyyyyyyyyyyyyyyyyyyyyyyyyyyyyyyyyyyyyyyyyyyyyyyyyyyyyyyyyyyyyyyyyyyyyyyyyyyyyyyyyyyyyyyyyyyyyyyyyyyyyyyyyyyyyyyyyyyyyyyyyyyyyyyyyyyyyyyyyyyyyyyyyyyyyyyyyyyyyyyyyyyyyyyyyyyyyyyyyyyyyyyyyyyyyyyyyyyyyyyyyyyyyyyyyyyyyyyyyyyyyyyyyyyyyyyyyyyyyyyyyyyyyyyyyyyyyyyyyyyyyyyyyyyyyyyyyyyyyyyyyyyyyyyyyyyyyyyyyyyyyyyyyyyyyyyyyyyyyyyyyyyyyyyyyyyyyyyyyyyyyyyyyyyyyyyyyyyyyyyyyyyyyyyyyyyyyyyyyyyyyyyyyyyyyyyyyyyyyyyyyyyyyyyyyyyyyyyyyyyyyyyyyyyyyyyyyyyyyyyyyyyyyyyyyyyyyyyyyyyyyyyyyyyyyyyyyyyyyyyyyyyyyyyyyyyyyyyyyyyyyyyyyyyyyyyyyyyyyyyyyyyyyyyyyyyyyyyyyyyyyyyyyyyyyyyyyyyyyyyyyyyyyyyyyyyyyyyyyyyyyyyyyyyyyyyyyyyyyyyyyyyyyyyyyyyyyyyyyyyyyyyyyyyyyyyyyyyyyyyyyyyyyyyyyyyyyyyyyyyyyyyyyyyyyyyyyyyyyyyyyyyyyyyyyyyyyyyyyyyyyyyyyyyyyyyyyyyyyyyyyyyyyyyyyyyyyyyyyyyyyyyyyyyyyyyyyyyyyyyyyyyyyyyyyyyyyyyyyyyyyyyyyyyyyyyyyyyyyyyyyyyyyyyyyyyyyyyyyyyyyyyyyyyyyyyyyyyyyyyyyyyyyyyyyyyyyyyyyyyyyyyyyyyyyyyyyyyyyyyyyyyyyyyyeyyyyyyyyyyyyyyyyyyyyyyyyyyyyyyyyyyyyyyyyyyyyyyyyyyyyyyyyyyyyyyyyyyyyyyyyyyyyyyyyyyyyyyyyyyyyyyyyyyyyyyyyyyyyyyyyyyyyyyyyyyyyyyyyyyyyyyyyyyyyyyyyyyyyyyyyyyyyyyyyyyyyyyyyyyyyyyyyyyyyyyyyyyyyyyyyyyyyyyyyyyyyyyyyyyyyyyyyyyyyyyyyyyyyyyyyyyyyyyyyyyyyyyyyyyyyyyyyyyyyyyyyyyyyyyyyyyyyyyyyyyyyyyyyyyyyyyyyyyyyyyyyyyyyyyyyyyyyyyyyyyyyyyyyyyyyyyyyyyyyyyyyyyyyyyyyyyyyyyyyyyyyyyyyyyyyyyyyyyyyyyyyyyyyyyyyyyyyyyyyyyyyyyyyyyyyyyyyyyyyyyyyyyyyyyyyyyyyyyyyyyyyyyyyyyyyyyyyyyyyyyyyyyyyyyyyyyyyyyyyyyyyyyyyyyyyyyyyyyyyyyyyyyyyyyyyyyyyyyyyyyyyyyyyyyyyyyyyyyyyyyyyyyyyyyyyyyyyyyyyyyyyyyyyyyyyyyyyyyyyyyyyyyyyyyyyyyyyyyyyyyyyyyyyyyyyyyyyyyyyyyyyyyyyyyyyyyyyyyyyyyyyyyyyyyyyyyyyyyyyyyyyyyyyyyyyyyyyyyyyyyyyyyyyyyyyyyyyyyyyyyyyyyyyyyyyyyyyyyyyyyyyyyyyyyyyyyyyyyyyyyyyyyyyyyyyyyyyyyyyyyyyyyyyyyyyyyyyyyyyyyyyyyyyyyyyyyyyyyyyyyyyyyyyyyyyyyyyyyyyyyyyyyyyyyyyyyyyyyyyyyyyyyyyyyyyyyyyyyyyyyyyyyyyyyyyyyyyyyyyyyyyyyyyyyyyyyyyyyyyyyyyyyyyyyyyyyyyyyyyyyyyyyyyyyyyyyyyyyyyyyyyyyyyyyyyyyyyyyyyyyyyyyyyyyyyyyyyyyyyyyyyyyyyyyyyyyyyyyyyyyyyyyyyyyyyyyyyyyyyyyyyyyyyyyyyyyyyyyyyyyyyyyyyyyyyyyyyyyyyyyyyyyyyyyyyyyyyyyyyyyyyyyyyyyyyyyyyyyyyyyyyyyyyyyyyyyyyyyyyyyyyyyyyyyyyyyyyyyyyyyyyyyyyyyyyyyyyyyyyyyyyyyyyyyyyyyyyyyyyyyyyyyyyyyyyyyyyyyyyyyyyyyyyyyyyyyyyyyyyyyyyyyyyyyyyyyyyyyyyyyyyyyyyyyyyyyyyyyyyyyyyyyyyyyyyyyyyyyyyyyyyyyyyyyyyyyyyyyyyyyyyyyyyyyyyyyyyyyyyyyyyyyyyyyyyyyyyyyyyyyyyyyyyyyyyyyyyyyyyyyyyyyyyyyyyyyyyyyyyyyyyyyyyyyyyyyyyyyyyyyyyyyyyyyyyyyyyyyyyyyyyyyyyyyyyyyyyyyyyyyyyyyyyyyyyyyyyyyyyyyyyyyyyyyyyyyyyyyyyyyyyyyyyyyyyyyyyyyyyyyyyyyyyyyyyyyyyyyyyyyyyyyyyyyyyyyyyyyyyyyyyyyyyyyyyyyyyyyyyyyyyyyyyyyyyyyyyyyyyyyyyyyyyyyyyyyyyyyyyyyyyyyyyyyyyyyyyyyyyyyyyyyyyyyyyyyyyyyyyyyyyyyyyyyyyyyyyyyyyyyyyyyyyyyyyyyyyyyyyyyyyyyyyyyyyyyyyyyyyyyyyyyyyyyyyyyyyyyyyyyyyyyyyyyyyyyyyyyyyyyyyyyyyyyyyyyyyyyyyyyyyyyyyyyyyyyyyyyyyyyyyyyyyyyyyyyyyyyyyyyyyyyyyyyyyyyyyyyyyyyyyyyyyyyyyyyyyyyyyyyyyyyyyyyytyyyyyyyyyyyyyyyyyyyyyyyyyyyyyyyyyyyyyyyyyyyyyyyyyyyyyyyyyyyyyyyyyyyyyyyyyyyyyyyyyyyyyyyyyyyyyyyyyyyyyyyyyyyyyyyyyyyyyyyyyyyyyyyyyyyyyyyyyyyyyyyyyyyyyyyyyyyyyyyyyyyyyyyyyyyyyyyyyyyyyyyyyyyyyyyyyyyyyyyyyyyyyyyyyyyyyyyyyyyyyyyyyyyyyyyyyyyyyyyyyyyyyycyyyyyyyyyyyyyyyyyyyyyyyyyyyyyyyyyyyyyyyyyyyyyyyyyyyyyyyyyyyyyyyyyyyyyyyyyyyyyyyyyyyyyyyyyyyyyyyyyyyyyyyyyyyyyyyyyyyyyyyyyyyyyyyyyyyyyyyyyyyyyyyyyyyyyyyyyyyyyyyyyyyyyyyyyyyyyyyyyyyyyyyyyyyyyyyyyyyyyyyyyyyyyyyyyyyyyyyyyyyyyyyyyyyyyyyyyyyyyyyyyyyyyyyyyyyyyyyyyyyyyyyyyyyyyyyyyyyyyyyyyyyyyyyyyyyyyyyyyyyyyyyyyyyyyyyyyyyyyyyyyyyyyyyyyyyyyyyyyyyyyyyyyyyyyyyyyyyyyyyyyyyyyyyyyyyyyyyyyyyyyyyyyyyyyyyyyyyyyyyyyyyyyyyyyyyyyyyyyyyyyyyyyyyyyyyyyyyyyyyyyyyyyyyyyyyyyyyyyyyyyyyyyyyyyyyyyyyyyyyyyyyyyyyyyyyyyyyyyyyyyyyyyyyyyyyyyyyyyyyyyyyyyyyyyyyyyyyyyyyyyyyyyyyyyyyyyyyyyyyyyyyyyyyyyyyyyyyyyyyyyyyyyyyyyyyyyyyyyyyyyyyyyyyyyyyyyyyyyyyyyyyyyyyyyyyyyyyyyyyyyyyyyyyyyyyyyyyyyyyyyyyyyyyyyyyyyyyyyyyyyyyyyyyyyyyyyyyyyyyyyyyyyyyyyyyyyyyyyyyyyyyyyyyyyyyyyyyyyyyyyyyyyyyyyyyyyyyyyyyyyyyyyyyyyyyyyyyyyyyyyyyyyyyyyyyyyyyyyyyyyyyyyyyyyyyyyyyyyyyyyyyyyyyyyyyyyyyyyyyyyyyyyyyyyyyyyyyyyyyyyyyyyyyyyyyyyyyyyyyyyyyyyyyyyyyyyyyyyyyyyyyyyyyyyyyyyyyyyyyyyyyyyyyyyyyyyyyyyyyyyyyyyyyyyyyyyyyyyyyyyyyyyyyyyyyyyyyyyyyyyyyyyyyyyyyyyyyyyyyyyyyyyyyyyyyyyyyyyyyyyyyyyyyyyyyyyyyyyyyyyyyyyyyyyyyyyyyyyyyyyyyyyyyyyyyyyyyyyyyyyyyyyyyyyyyyyyyyyyyyyyyyyyyyyyyyyyyyyyyyyyyyyyyyyyyyyyyyyyyyyyyyyyyyyyyyyyyyyyyyyyyyyyyyyyyyyyyyyyyyyyyyyyyyyyyyyyyyyyyyyyyyyyyyyyyyyyyyyyyyyyyyyyyyyyyyyyyyyyyyyyyyyyyyyyyyyyyyyyyyyyyyyyyyyyyyyyyyyyyyyyyyyyyyyyyyyyyyyyyyyyyyyyyyyyyyyyyyyyyyoyyyyyyyyyyyyyyyyyyyyyyyyyyyyyyyyyyyyyyyyyyyyyyyyyyyyyyyyyyyyyyyyyyyyyyyyyyyyyyyyyyyyyyyyyyyyyyyyyyyyyyyyyyyyyyyyyyyyyyyyyyyyyyyyyyyyyyyyyyyyyyyyyyyyyyyyyyyyyyyyyyyyyyyyyyyyyyyyyyyyyyyyyyyyyyyyyyyyyyyyyyyyyyyyyyyyyyyyyyyyyyyyyyyyyyyyyyyyyyyyyyyyyyyyyyyyyyyyyyyyyyyyyyyyyyyyyyyyyyyyyyyyyyyyyyyyyyyyyyyyyyyyyyyyyyyyyyyyyyyyyyyyyyyyyyyyyyyyyyyyyyyyyyyyyyyyyyyyyyyyyyyyyyyyyyyyyyyyyyyyyyyyyyyyyyyyyyyyyyyyyyyyyyyyyyyyyyyyyyyyyyyyyyyyyyyyyyyyyyyyyyyyyyyyyyyyyyyyyyyyyyyyyyyyyyyyyyyyyyyyyyyyyyyyyyyyyyyyyyyyyyyyyyyyyyyyyyyyyyyyyyyyyyyyyyyyyyyyyyyyyyyyyyyyyyyyyyyyyyyyyyyyyyyyyyyyyyyyyyyyyyyyyyyyyyyyyyyyyyyyyyyyyyyyyyyyyyyyyyyyyyyyyyyyyyyyyyyyyyyyyyyyyyyyyyyyyyyyyyyyyyyyyyyyyyyyyyyyyyyyyyyyyyyyyyyyyyyyyyyyyyyyyyyyyyyyyyyyyyyyyyyyyyyyyyyyyyyyyyyyyyyyyyyyyyyyyyyyyyyyyyyyyyyyyyyyyyyyyyyyyyyyyyyyyyyyyyyyyyyyyyyyyyyyyyyyyyyyyyyyyyyyyyyyyyyyyyyyyyyyyyyyyyyyyyyyyyyyyyyyyyyyyyyyyyyyyyyyyyyyyyyyyyyyyyyyyyyyyyyyyyyyyyyyyyyyyyyyyyyyyyyyyyyyyyyyyyyyyyyyyyyyyyyyyyyyyyyyyyyyyyyyyyyyyyyyyyyyyyyyyyyyyyyyyyyyyyyyyyydyyyyyyyyyyyyyyyyyyyyyyyyyyyyyyyyyyyyyyyyyyyyyyyyyyyyyyyyyyyyyyyyyyyyyyyyyyyyyyyyyyyyyyyyyyyyyyyyyyyyyyyyyyyyyyyyyyyyyyyyyyyyyyyyyyyyyyyyyyyyyyyyyyyyyyyyyyyyyyyyyyyyyyyyyyyyyyyyyyyyyyyyyyyyyyyyyyyyyyyyyyyyyyyyyyyyyyyyyyyyyyyyyyyyyyyyyyyyyyyyyyyyyyyyyyyyyyyyyyyyyyyyyyyyyyyyyyyyyyyyyyyyyyyyyyyyyyyyyyyyyyyyyyyyyyyyyyyyyyyyyyyyyyyyyyyyyyyyyyyyyyyyyyyyyyyyyyyyyyyyyyyyyyyyyyyyyyyyyyyyyyyyyyyyyyyyyyyyyyyyyyyyyyyyyyyyyyyyyyyyyyyyyyyyyyyyyyyyyyyyyyyyyyyyyyyyyyyyyyyyyyyyyyyyyyyyyyyyyyyyyyyyyyyyyyyyyyyyyyyyyyyyyyyyyyyyyyyyyyyyyyyyyyyyyyyyyyyyyyyyyyyyyyyyyyyyyyyyyyyyyyyyyyyyyyyyyyyyyyyyyyyyyyyyyyyyyyyyyyyyyyyyyyyyyyyyyyyyyyyyyyyyyyyyyyyyyyyyyyyyyyyyyyyyyyyyyyyyyyyyyyyyyyyyyyyyyyyyyyyyyyyyyyyyyyyyyyyyyyyyyyyyyyyyyyyyyyyyyyyyyyyyyyyyyyyyyyyyyyyyyyyyyyyyyyyyyyyyyyyyyyyyyyyyyyyyyyyyyyyyyyyyyyyyyyyyyyyyyyyyyyyyyyyyyyyyyyyyyyyyyyyyyyyyyyyyyyyyyyyyyyyyyyyyyyyyyyyyyyyyyyyyyyyyyyyyyyyyyyyyyyyyyyyyyyyyyyyyyyyyyyyyyyyyyyyyyyyyyyyyyyyyyyyyyyyyyyyyyyyyyyyyyyyyyyyyyyyyyyyyyyyyyyyyyyyyyyyyyyyyyyyyyyyyyyyyyyyyyyyyyyyyyyyyyyyyyyyyyyyyyyyyyyyyyyyyyyyyyyyyyyyyyyyyyyyyyyyyyyyyyyyyyyyyyyyyyyyyyyyyyyyyyyyyyyyyyyyyyyyyyyyyyyyyyyyyyyyyyyyyyyyyyyyyyyyyyyyyyyyyyyyyyyyyyyyyyyyyyyyyyyyyyyyyyyyyyyyyyyyyyyyyyyyyyyyyyyyyyyyyyyyyyyyyyyyyyyyyyyyyyyyyyyyyyyyyyyyyyyyyyyyyyyyyyyyyyyyyyyyyyyyyyyyyyyyyyyyyyyyyyyyyyyyyyyyyyyyyyyyyyyyyyyyyyyyyyyyyyyyyyyyyyyyyyyyyyyyyyyyyyyyyyyyyyyyyyyyyyyyyyyyyyyyyyyyyyyyyyyyyyyyyyyyyyyyyyyyyyyyyyyyyyyyyyyyyyyyyyyyyyyyyyyyyyyyyyyyyyyyyyyyyyyyyyyyyyyyyyyyyyyyyyyyyyyyyyyyyyyyyyyyyyyyyyyyyyyyyyyyyyyyyyyyyyyyyyyyyyyyyyyyyyyeyyyyyyyyyyyyyyyyyyyyyyyyyyyyyyyyyyyyyyyyyyyyyyyyyyyyyyyyyyyyyyyyyyyyyyyyyyyyyyyyyyyyyyyyyyyyyyyyyyyyyyyyyyyyyyyyyyyyyyyyyyyyyyyyyyyyyyyyyyyyyyyyyyyyyyyyyyyyyyyyyyyyyyyyyyyyyyyyyyyyyyyyyyyyyyyyyyyyyyyyyyyyyyyyyyyyyyyyyyyyyyyyyyyyyyyyyyyyyyyyyyyyyyyyyyyyyyyyyyyyyyyyyyyyyyyyyyyyyyyyyyyyyyyyyyyyyyyyyyyyyyyyyyyyyyyyyyyyyyyyyyyyyyyyyyyyyyyyyyyyyyyyyyyyyyyyyyyyyyyyyyyyyyyyyyyyyyyyyyyyyyyyyyyyyyyyyyyyyyyyyyyyyyyyyyyyyyyyyyyyyyyyyyyyyyyyyyyyyyyyyyyyyyyyyyyyyyyyyyyyyyyyyyyyyyyy\""
   ]
  },
  {
   "cell_type": "code",
   "execution_count": 398,
   "id": "4c9bf8d8",
   "metadata": {},
   "outputs": [
    {
     "data": {
      "text/plain": [
       "[5, 400, 1700, 3580, 9527, 0, 0, 0, 0, 0, 0]"
      ]
     },
     "execution_count": 398,
     "metadata": {},
     "output_type": "execute_result"
    }
   ],
   "source": [
    "x = 0\n",
    "length = len(s)\n",
    "r= [0]*length\n",
    "for i in range(length):\n",
    "    if str.find(t[x:],s[i]) == -1:\n",
    "        break\n",
    "    else:\n",
    "        r[i] = str.find(t[x:],s[i]) + x\n",
    "        x = r[i]+1\n",
    "r"
   ]
  },
  {
   "cell_type": "code",
   "execution_count": 394,
   "id": "b0e4f8bb",
   "metadata": {},
   "outputs": [
    {
     "data": {
      "text/plain": [
       "51"
      ]
     },
     "execution_count": 394,
     "metadata": {},
     "output_type": "execute_result"
    }
   ],
   "source": [
    "str.find(t,\"w\")"
   ]
  },
  {
   "cell_type": "code",
   "execution_count": 454,
   "id": "71254751",
   "metadata": {},
   "outputs": [],
   "source": [
    "nums = [-1]\n",
    "k = 1"
   ]
  },
  {
   "cell_type": "code",
   "execution_count": 456,
   "id": "82c0ed47",
   "metadata": {},
   "outputs": [
    {
     "data": {
      "text/plain": [
       "[5.0]"
      ]
     },
     "execution_count": 456,
     "metadata": {},
     "output_type": "execute_result"
    }
   ],
   "source": [
    "r = [0]*(len(nums) - k + 1)\n",
    "for x in range(max(1,len(nums) - k + 1)):\n",
    "    r[x] = sum(nums[x:x+k]) / k\n",
    "r"
   ]
  },
  {
   "cell_type": "code",
   "execution_count": 451,
   "id": "5c4938bc",
   "metadata": {},
   "outputs": [
    {
     "data": {
      "text/plain": [
       "range(0, 1)"
      ]
     },
     "execution_count": 451,
     "metadata": {},
     "output_type": "execute_result"
    }
   ],
   "source": [
    "range(max(1,len(nums)-k))"
   ]
  },
  {
   "cell_type": "code",
   "execution_count": 449,
   "id": "31c11121",
   "metadata": {},
   "outputs": [
    {
     "data": {
      "text/plain": [
       "2.0"
      ]
     },
     "execution_count": 449,
     "metadata": {},
     "output_type": "execute_result"
    }
   ],
   "source": [
    "sum(nums[1:1+k])/4"
   ]
  },
  {
   "cell_type": "code",
   "execution_count": 459,
   "id": "6dba6040",
   "metadata": {},
   "outputs": [],
   "source": [
    "gain = [-4,-3,-2,-1,4,3,2]"
   ]
  },
  {
   "cell_type": "code",
   "execution_count": 460,
   "id": "3ef9a7a8",
   "metadata": {},
   "outputs": [
    {
     "data": {
      "text/plain": [
       "-1"
      ]
     },
     "execution_count": 460,
     "metadata": {},
     "output_type": "execute_result"
    }
   ],
   "source": [
    "h = a = gain[0]\n",
    "for i in range(1,len(gain)):\n",
    "    a += gain[i]\n",
    "    if a > h:\n",
    "        h = a\n",
    "\n",
    "h\n"
   ]
  },
  {
   "cell_type": "code",
   "execution_count": 461,
   "id": "860566a7",
   "metadata": {},
   "outputs": [],
   "source": [
    "nums1 = [1,2,3]\n",
    "nums2 = [2,4,6]"
   ]
  },
  {
   "cell_type": "code",
   "execution_count": 464,
   "id": "e9527692",
   "metadata": {},
   "outputs": [
    {
     "data": {
      "text/plain": [
       "[[1, 3], [4, 6]]"
      ]
     },
     "execution_count": 464,
     "metadata": {},
     "output_type": "execute_result"
    }
   ],
   "source": [
    "r = [[]]*2\n",
    "r[0] = list(set([x for x in nums1 if x not in nums2]))\n",
    "r[1] = list(set([x for x in nums2 if x not in nums1]))\n",
    "\n",
    "r"
   ]
  },
  {
   "cell_type": "code",
   "execution_count": 465,
   "id": "302430ff",
   "metadata": {},
   "outputs": [],
   "source": [
    "arr = [1,2,2,1,1,3]"
   ]
  },
  {
   "cell_type": "code",
   "execution_count": 476,
   "id": "d0a1c6f4",
   "metadata": {},
   "outputs": [
    {
     "data": {
      "text/plain": [
       "True"
      ]
     },
     "execution_count": 476,
     "metadata": {},
     "output_type": "execute_result"
    }
   ],
   "source": [
    "        a = list(set(arr))\n",
    "        b = [0]*len(a)\n",
    "        for i in range(len(a)):\n",
    "            for j in range(len(arr)):\n",
    "                if arr[j] == a[i]:\n",
    "                    b[i] += 1\n",
    "len(list(set(b))) == len(a)"
   ]
  },
  {
   "cell_type": "code",
   "execution_count": 469,
   "id": "adedb4f6",
   "metadata": {},
   "outputs": [
    {
     "data": {
      "text/plain": [
       "[1, 2, 3]"
      ]
     },
     "execution_count": 469,
     "metadata": {},
     "output_type": "execute_result"
    }
   ],
   "source": [
    "a"
   ]
  },
  {
   "cell_type": "code",
   "execution_count": null,
   "id": "38551471",
   "metadata": {},
   "outputs": [],
   "source": [
    "[\"RecentCounter\", \"ping\", \"ping\", \"ping\", \"ping\"]\n",
    "[[], [1], [100], [3001], [3002]]"
   ]
  },
  {
   "cell_type": "code",
   "execution_count": 484,
   "id": "a629dd50",
   "metadata": {},
   "outputs": [],
   "source": [
    "root = [3,9,20,'null','null',15,7]"
   ]
  },
  {
   "cell_type": "code",
   "execution_count": 483,
   "id": "ffb6d251",
   "metadata": {},
   "outputs": [
    {
     "data": {
      "text/plain": [
       "3"
      ]
     },
     "execution_count": 483,
     "metadata": {},
     "output_type": "execute_result"
    }
   ],
   "source": [
    "import math\n",
    "math.ceil(math.log(len(root))/math.log(2))"
   ]
  },
  {
   "cell_type": "code",
   "execution_count": 494,
   "id": "550b4a11",
   "metadata": {},
   "outputs": [],
   "source": [
    "nums = [-1,-1,0,0,-1,-1]"
   ]
  },
  {
   "cell_type": "code",
   "execution_count": 495,
   "id": "9bc21ad1",
   "metadata": {},
   "outputs": [
    {
     "name": "stdout",
     "output_type": "stream",
     "text": [
      "2\n",
      "3\n"
     ]
    }
   ],
   "source": [
    "ls = 0\n",
    "rs = sum(nums[1:])\n",
    "if ls == rs:\n",
    "    0\n",
    "else:\n",
    "    for i in range(1,len(nums)):\n",
    "        ls += nums[i-1]\n",
    "        rs -= nums[i]\n",
    "        if ls == rs:\n",
    "            print(i)"
   ]
  },
  {
   "cell_type": "code",
   "execution_count": 536,
   "id": "96f411ef",
   "metadata": {},
   "outputs": [],
   "source": [
    "s = \"aA\""
   ]
  },
  {
   "cell_type": "code",
   "execution_count": 535,
   "id": "91a4498b",
   "metadata": {},
   "outputs": [
    {
     "ename": "IndexError",
     "evalue": "string index out of range",
     "output_type": "error",
     "traceback": [
      "\u001b[0;31m---------------------------------------------------------------------------\u001b[0m",
      "\u001b[0;31mIndexError\u001b[0m                                Traceback (most recent call last)",
      "Cell \u001b[0;32mIn[535], line 12\u001b[0m\n\u001b[1;32m     10\u001b[0m j \u001b[38;5;241m=\u001b[39m \u001b[38;5;241m0\u001b[39m\n\u001b[1;32m     11\u001b[0m \u001b[38;5;28;01mfor\u001b[39;00m i \u001b[38;5;129;01min\u001b[39;00m \u001b[38;5;28mrange\u001b[39m(\u001b[38;5;28mlen\u001b[39m(s)\u001b[38;5;241m-\u001b[39m\u001b[38;5;241m1\u001b[39m):\n\u001b[0;32m---> 12\u001b[0m     \u001b[38;5;28;01mif\u001b[39;00m \u001b[43mc\u001b[49m\u001b[43m[\u001b[49m\u001b[43mi\u001b[49m\u001b[43m]\u001b[49m \u001b[38;5;241m!=\u001b[39m s[i]:\n\u001b[1;32m     13\u001b[0m         c  \u001b[38;5;241m=\u001b[39m  c[:i] \u001b[38;5;241m+\u001b[39m v[j] \u001b[38;5;241m+\u001b[39m c[i:] \n\u001b[1;32m     14\u001b[0m         j \u001b[38;5;241m+\u001b[39m\u001b[38;5;241m=\u001b[39m\u001b[38;5;241m1\u001b[39m\n",
      "\u001b[0;31mIndexError\u001b[0m: string index out of range"
     ]
    }
   ],
   "source": [
    "c = ''\n",
    "v = ''\n",
    "for i in range(len(s)):\n",
    "    if s[i] in ('a','e','i','o','u','A','E','I','O','U'):\n",
    "        v += s[i]\n",
    "    else:\n",
    "        c += s[i]\n",
    "v = v[::-1]\n",
    "\n",
    "if len(v) == len(s):\n",
    "    v\n",
    "j = 0\n",
    "for i in range(len(s)-1):\n",
    "    if c[i] != s[i]:\n",
    "        c  =  c[:i] + v[j] + c[i:] \n",
    "        j +=1\n",
    "c + v[j:]"
   ]
  },
  {
   "cell_type": "code",
   "execution_count": 537,
   "id": "00bf08bd",
   "metadata": {},
   "outputs": [
    {
     "data": {
      "text/plain": [
       "'Aa'"
      ]
     },
     "execution_count": 537,
     "metadata": {},
     "output_type": "execute_result"
    }
   ],
   "source": [
    "        s = list(s)\n",
    "        left = 0\n",
    "        right = len(s) - 1\n",
    "        m = 'aeiouAEIOU'\n",
    "        while left < right:\n",
    "            if s[left] in m and s[right] in m:\n",
    "                \n",
    "                s[left], s[right] = s[right], s[left]\n",
    "                \n",
    "                left += 1; right -= 1\n",
    "            \n",
    "            elif s[left] not in m:\n",
    "                left += 1\n",
    "            \n",
    "            elif s[right] not in m:\n",
    "                right -= 1\n",
    "            \n",
    "''.join(s)"
   ]
  },
  {
   "cell_type": "code",
   "execution_count": 556,
   "id": "89094851",
   "metadata": {},
   "outputs": [],
   "source": [
    "s = \"a good   example\""
   ]
  },
  {
   "cell_type": "code",
   "execution_count": 565,
   "id": "13269111",
   "metadata": {},
   "outputs": [
    {
     "data": {
      "text/plain": [
       "'example good a'"
      ]
     },
     "execution_count": 565,
     "metadata": {},
     "output_type": "execute_result"
    }
   ],
   "source": [
    "l = s.split( ' ')\n",
    "l = [i for i in l if i != '']\n",
    "l = l[::-1]\n",
    "t = ''\n",
    "for i in range(len(l)):\n",
    "    l[i].strip()\n",
    "    t += ' ' \n",
    "    t += l[i] \n",
    "t.strip()"
   ]
  },
  {
   "cell_type": "code",
   "execution_count": 628,
   "id": "f14b90e0",
   "metadata": {},
   "outputs": [],
   "source": [
    "nums = [1,2,3,4]"
   ]
  },
  {
   "cell_type": "code",
   "execution_count": 627,
   "id": "82bde68e",
   "metadata": {},
   "outputs": [
    {
     "data": {
      "text/plain": [
       "[24, 12, 8, 6]"
      ]
     },
     "execution_count": 627,
     "metadata": {},
     "output_type": "execute_result"
    }
   ],
   "source": [
    "x = len(nums)\n",
    "l = [1]*x\n",
    "for i in range(x):\n",
    "    a = nums[:i] + nums[i+1 :]\n",
    "    for j in range(x-1):\n",
    "        l[i] *= a[j]\n",
    "\n",
    "l\n"
   ]
  },
  {
   "cell_type": "code",
   "execution_count": 614,
   "id": "96f015c0",
   "metadata": {},
   "outputs": [
    {
     "data": {
      "text/plain": [
       "4"
      ]
     },
     "execution_count": 614,
     "metadata": {},
     "output_type": "execute_result"
    }
   ],
   "source": [
    "t = nums\n",
    "t.pop(3)"
   ]
  },
  {
   "cell_type": "code",
   "execution_count": 630,
   "id": "bbe659a9",
   "metadata": {},
   "outputs": [
    {
     "data": {
      "text/plain": [
       "[24, 12, 8, 6]"
      ]
     },
     "execution_count": 630,
     "metadata": {},
     "output_type": "execute_result"
    }
   ],
   "source": [
    "        length=len(nums)\n",
    "        sol=[1]*length\n",
    "        pre = 1\n",
    "        post = 1\n",
    "        for i in range(length):\n",
    "            sol[i] *= pre\n",
    "            pre = pre*nums[i]\n",
    "            sol[length-i-1] *= post\n",
    "            post = post*nums[length-i-1]\n",
    "sol"
   ]
  },
  {
   "cell_type": "code",
   "execution_count": 701,
   "id": "33cb8752",
   "metadata": {},
   "outputs": [],
   "source": [
    "chars = [\"a\",\"a\",\"b\",\"b\",\"c\",\"c\",\"c\"]"
   ]
  },
  {
   "cell_type": "code",
   "execution_count": 672,
   "id": "6d8e1d35",
   "metadata": {},
   "outputs": [
    {
     "data": {
      "text/plain": [
       "['a', 2, 'b', 2, 'c', 3]"
      ]
     },
     "execution_count": 672,
     "metadata": {},
     "output_type": "execute_result"
    }
   ],
   "source": [
    "s = list(set(chars))\n",
    "s.sort()\n",
    "t = ['']*len(s)*2\n",
    "for i in range(len(s)):\n",
    "    t[i*2] = s[i]\n",
    "    t[i*2+1] = sum([x == s[i] for x in chars])\n",
    "if 1 in t: t.remove(1)\n",
    "\n",
    "t"
   ]
  },
  {
   "cell_type": "code",
   "execution_count": 687,
   "id": "578d6348",
   "metadata": {},
   "outputs": [
    {
     "data": {
      "text/plain": [
       "['a', '2', 'b', '2', 'c', '3', 'a', 'a', 'b', 'b', 'c', 'c', 'c']"
      ]
     },
     "execution_count": 687,
     "metadata": {},
     "output_type": "execute_result"
    }
   ],
   "source": [
    "        s = list(set(chars))\n",
    "        t = ''\n",
    "        for i in range(len(s)):\n",
    "            t += s[i]\n",
    "            x = sum([x == s[i] for x in chars])\n",
    "            if x > 1:\n",
    "                t += str(x)\n",
    "        t = t[::-1]\n",
    "for i in range(len(t)):\n",
    "    chars.insert(0,t[i])\n",
    "chars\n",
    "    "
   ]
  },
  {
   "cell_type": "code",
   "execution_count": 711,
   "id": "223ce95f",
   "metadata": {},
   "outputs": [
    {
     "data": {
      "text/plain": [
       "'a2b2c3'"
      ]
     },
     "execution_count": 711,
     "metadata": {},
     "output_type": "execute_result"
    }
   ],
   "source": [
    "v = t = chars[0]\n",
    "c = 1\n",
    "for i in range(1,len(chars)):\n",
    "    if v == chars[i]:\n",
    "        c += 1\n",
    "    else:\n",
    "        if c > 1: t += str(c)\n",
    "        t += chars[i]\n",
    "        v = chars[i]\n",
    "        c = 1\n",
    "t += str(c)\n",
    "t = t[::-1]\n",
    "        for i in range(len(t)):\n",
    "            chars.insert(0,t[i])\n",
    "t"
   ]
  },
  {
   "cell_type": "code",
   "execution_count": 709,
   "id": "0207172f",
   "metadata": {},
   "outputs": [
    {
     "data": {
      "text/plain": [
       "['a', 'a', 'b', 'b', 'c', 'c', 'c']"
      ]
     },
     "execution_count": 709,
     "metadata": {},
     "output_type": "execute_result"
    }
   ],
   "source": [
    "chars\n"
   ]
  },
  {
   "cell_type": "code",
   "execution_count": 706,
   "id": "a894b5a9",
   "metadata": {},
   "outputs": [
    {
     "data": {
      "text/plain": [
       "1"
      ]
     },
     "execution_count": 706,
     "metadata": {},
     "output_type": "execute_result"
    }
   ],
   "source": [
    "c"
   ]
  },
  {
   "cell_type": "code",
   "execution_count": 794,
   "id": "d165ccbd",
   "metadata": {},
   "outputs": [],
   "source": [
    "nums = [9,10,5,11,10,9,8]"
   ]
  },
  {
   "cell_type": "code",
   "execution_count": 727,
   "id": "30b7aab6",
   "metadata": {},
   "outputs": [
    {
     "name": "stdout",
     "output_type": "stream",
     "text": [
      "false\n"
     ]
    }
   ],
   "source": [
    "prev = nums[0]\n",
    "post = nums[2]\n",
    "for i in range(1,len(nums)-2):\n",
    "    if prev < nums[i] < post:\n",
    "        print(\"true\")\n",
    "    prev = nums[i]\n",
    "    post = nums[i+2]\n",
    "if prev < nums[len(nums)-2] < post:\n",
    "        print(\"true\")\n",
    "else: print(\"false\")"
   ]
  },
  {
   "cell_type": "code",
   "execution_count": 804,
   "id": "44b08cc8",
   "metadata": {},
   "outputs": [
    {
     "name": "stdout",
     "output_type": "stream",
     "text": [
      "true\n"
     ]
    }
   ],
   "source": [
    "length = len(nums)\n",
    "if(length) < 3:\n",
    "    print('false')\n",
    "min_pre = [nums[0]]*length\n",
    "max_post = [nums[-1]]*length\n",
    "for i in range(1,len(nums)-1):\n",
    "    min_pre[i] = min(min_pre[i-1], nums[i])\n",
    "    max_post[length-i-1] = max(max_post[length-i],nums[length-i-1])\n",
    "for i in range(len(nums)-1):\n",
    "    if min_pre[i-1] < nums[i] < max_post[i+1]:\n",
    "        print(\"true\")"
   ]
  },
  {
   "cell_type": "code",
   "execution_count": 802,
   "id": "d43bea99",
   "metadata": {},
   "outputs": [
    {
     "data": {
      "text/plain": [
       "[9, 9, 5, 5, 5, 5, 9]"
      ]
     },
     "execution_count": 802,
     "metadata": {},
     "output_type": "execute_result"
    }
   ],
   "source": [
    "min_pre"
   ]
  },
  {
   "cell_type": "code",
   "execution_count": 803,
   "id": "15ad6cee",
   "metadata": {},
   "outputs": [
    {
     "data": {
      "text/plain": [
       "[8, 10, 8, 11, 10, 9, 8]"
      ]
     },
     "execution_count": 803,
     "metadata": {},
     "output_type": "execute_result"
    }
   ],
   "source": [
    "max_post"
   ]
  },
  {
   "cell_type": "code",
   "execution_count": 853,
   "id": "0c549df1",
   "metadata": {},
   "outputs": [],
   "source": [
    "height = [2,3,10,5,7,8,9]"
   ]
  },
  {
   "cell_type": "code",
   "execution_count": 854,
   "id": "f5744fc4",
   "metadata": {},
   "outputs": [
    {
     "data": {
      "text/plain": [
       "36"
      ]
     },
     "execution_count": 854,
     "metadata": {},
     "output_type": "execute_result"
    }
   ],
   "source": [
    "w = 0\n",
    "n = len(height)\n",
    "for i in range(n):\n",
    "    for j in range(i+1,n):\n",
    "        w = max(w,min(height[i],height[j])*(j-i))\n",
    "w"
   ]
  },
  {
   "cell_type": "code",
   "execution_count": 860,
   "id": "0e349583",
   "metadata": {},
   "outputs": [
    {
     "data": {
      "text/plain": [
       "36"
      ]
     },
     "execution_count": 860,
     "metadata": {},
     "output_type": "execute_result"
    }
   ],
   "source": [
    "w = 0\n",
    "n = len(height)\n",
    "for i in range(n):\n",
    "    b = h = 0\n",
    "    for j in range(i+1,n):\n",
    "        if j > b or height[j] > h:\n",
    "            w = max(w,min(height[i],height[j])*(j-i))\n",
    "            b = (j-i)\n",
    "            h = height[j]\n",
    "w"
   ]
  },
  {
   "cell_type": "code",
   "execution_count": 847,
   "id": "bf871069",
   "metadata": {},
   "outputs": [
    {
     "data": {
      "text/plain": [
       "16"
      ]
     },
     "execution_count": 847,
     "metadata": {},
     "output_type": "execute_result"
    }
   ],
   "source": [
    "w1 = 0\n",
    "w2 = 0\n",
    "n = len(height)\n",
    "for i in range(n):\n",
    "    w1 = max(w1,min(height[-1],height[i])*(n-1-i))\n",
    "    w2 = max(w2,min(height[n-1-i],height[0])*(n-1-i))\n",
    "max(w1,w2)"
   ]
  },
  {
   "cell_type": "code",
   "execution_count": 848,
   "id": "34cfe335",
   "metadata": {},
   "outputs": [
    {
     "data": {
      "text/plain": [
       "[2, 3, 4, 5, 18, 17, 6]"
      ]
     },
     "execution_count": 848,
     "metadata": {},
     "output_type": "execute_result"
    }
   ],
   "source": [
    "height"
   ]
  },
  {
   "cell_type": "code",
   "execution_count": 948,
   "id": "0c10f728",
   "metadata": {},
   "outputs": [],
   "source": [
    "nums = [2,5,4,4,1,3,4,4,1,4,4,1,2,1,2,2,3,2,4,2]\n",
    "k = 3"
   ]
  },
  {
   "cell_type": "code",
   "execution_count": 943,
   "id": "cfc89bfc",
   "metadata": {},
   "outputs": [
    {
     "data": {
      "text/plain": [
       "3"
      ]
     },
     "execution_count": 943,
     "metadata": {},
     "output_type": "execute_result"
    }
   ],
   "source": [
    "        c = 0\n",
    "        x = nums[::-1]\n",
    "        for i in range(len(nums)//2):\n",
    "            if nums[i] < k:\n",
    "                x.pop(-1)\n",
    "                if k-nums[i] in x:\n",
    "                    x.remove(k-nums[i])\n",
    "                    c += 1\n",
    "        c"
   ]
  },
  {
   "cell_type": "code",
   "execution_count": 949,
   "id": "36ecb138",
   "metadata": {},
   "outputs": [],
   "source": [
    "x = nums[::-1]\n",
    "c = 0"
   ]
  },
  {
   "cell_type": "code",
   "execution_count": 950,
   "id": "750c52d4",
   "metadata": {},
   "outputs": [],
   "source": [
    "    x.pop(-1)\n",
    "    if k-nums[1] in x:\n",
    "        x.remove(k-nums[1])\n",
    "        c += 1"
   ]
  },
  {
   "cell_type": "code",
   "execution_count": 951,
   "id": "d7966864",
   "metadata": {},
   "outputs": [
    {
     "data": {
      "text/plain": [
       "[2, 4, 2, 3, 2, 2, 2, 1, 4, 4, 1, 4, 4, 3, 1, 4, 4, 5]"
      ]
     },
     "execution_count": 951,
     "metadata": {},
     "output_type": "execute_result"
    }
   ],
   "source": [
    "x"
   ]
  },
  {
   "cell_type": "code",
   "execution_count": 1047,
   "id": "091df243",
   "metadata": {},
   "outputs": [],
   "source": [
    "nums = [3,1,3,4,3]\n",
    "k = 6"
   ]
  },
  {
   "cell_type": "code",
   "execution_count": 1050,
   "id": "f536de05",
   "metadata": {},
   "outputs": [
    {
     "data": {
      "text/plain": [
       "1"
      ]
     },
     "execution_count": 1050,
     "metadata": {},
     "output_type": "execute_result"
    }
   ],
   "source": [
    "c = 0\n",
    "f = (k//2)\n",
    "i = 1\n",
    "while i < f:\n",
    "    c += min(nums.count(i), nums.count(k-i))\n",
    "    i+=1\n",
    "    \n",
    "if k/2 == f: \n",
    "    c += nums.count(f)//2\n",
    "else: \n",
    "    c += min(nums.count(f), nums.count(k-f))\n",
    "    i+=1\n",
    "\n",
    "c"
   ]
  },
  {
   "cell_type": "code",
   "execution_count": 1049,
   "id": "9fff5878",
   "metadata": {},
   "outputs": [
    {
     "data": {
      "text/plain": [
       "3"
      ]
     },
     "execution_count": 1049,
     "metadata": {},
     "output_type": "execute_result"
    }
   ],
   "source": [
    "f"
   ]
  },
  {
   "cell_type": "code",
   "execution_count": 1031,
   "id": "a2dcd7ab",
   "metadata": {},
   "outputs": [
    {
     "data": {
      "text/plain": [
       "2"
      ]
     },
     "execution_count": 1031,
     "metadata": {},
     "output_type": "execute_result"
    }
   ],
   "source": [
    "i"
   ]
  },
  {
   "cell_type": "code",
   "execution_count": null,
   "id": "c26edc0b",
   "metadata": {},
   "outputs": [],
   "source": []
  }
 ],
 "metadata": {
  "kernelspec": {
   "display_name": "Python 3 (ipykernel)",
   "language": "python",
   "name": "python3"
  },
  "language_info": {
   "codemirror_mode": {
    "name": "ipython",
    "version": 3
   },
   "file_extension": ".py",
   "mimetype": "text/x-python",
   "name": "python",
   "nbconvert_exporter": "python",
   "pygments_lexer": "ipython3",
   "version": "3.10.9"
  }
 },
 "nbformat": 4,
 "nbformat_minor": 5
}
