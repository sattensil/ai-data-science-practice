{
 "cells": [
  {
   "cell_type": "code",
   "execution_count": 2,
   "metadata": {},
   "outputs": [],
   "source": [
    "import json\n",
    "from json import JSONEncoder\n",
    "import pandas as pd\n",
    "import pandasql as ps\n",
    "from datetime import datetime"
   ]
  },
  {
   "cell_type": "markdown",
   "metadata": {},
   "source": [
    "Exercise 1: Convert the following dictionary into JSON format"
   ]
  },
  {
   "cell_type": "code",
   "execution_count": null,
   "metadata": {},
   "outputs": [],
   "source": [
    "data = {\"key1\" : \"value1\", \"key2\" : \"value2\"}"
   ]
  },
  {
   "cell_type": "code",
   "execution_count": 5,
   "metadata": {},
   "outputs": [
    {
     "name": "stdout",
     "output_type": "stream",
     "text": [
      "{\"key1\": \"value1\", \"key2\": \"value2\"}\n"
     ]
    }
   ],
   "source": [
    "my_json = json.dumps(data)\n",
    "print(my_json)"
   ]
  },
  {
   "cell_type": "markdown",
   "metadata": {},
   "source": [
    "Exercise 2: Access the value of key2 from the following JSON"
   ]
  },
  {
   "cell_type": "code",
   "execution_count": 8,
   "metadata": {},
   "outputs": [],
   "source": [
    "sampleJson = \"\"\"{\"key1\": \"value1\", \"key2\": \"value2\"}\"\"\""
   ]
  },
  {
   "cell_type": "code",
   "execution_count": null,
   "metadata": {},
   "outputs": [
    {
     "data": {
      "text/plain": [
       "'value2'"
      ]
     },
     "execution_count": 9,
     "metadata": {},
     "output_type": "execute_result"
    }
   ],
   "source": [
    "dict = json.loads(sampleJson)\n",
    "print(dict['key2'])"
   ]
  },
  {
   "cell_type": "markdown",
   "metadata": {},
   "source": [
    "Exercise 3: PrettyPrint following JSON data"
   ]
  },
  {
   "cell_type": "code",
   "execution_count": 5,
   "metadata": {},
   "outputs": [
    {
     "name": "stdout",
     "output_type": "stream",
     "text": [
      "{\n",
      "    \"key1\" = \"value1\",\n",
      "    \"key2\" = \"value2\"\n",
      "}\n"
     ]
    }
   ],
   "source": [
    "sampleJson = {\"key1\": \"value1\", \"key2\": \"value2\"}\n",
    "print(json.dumps(sampleJson, indent=4, sort_keys=True, separators=(\",\",\" = \")))"
   ]
  },
  {
   "cell_type": "markdown",
   "metadata": {},
   "source": [
    "Exercise 4: Sort JSON keys in and write them into a file"
   ]
  },
  {
   "cell_type": "code",
   "execution_count": 10,
   "metadata": {},
   "outputs": [],
   "source": [
    "sampleJson = {\"id\" : 1, \"name\" : \"value2\", \"age\" : 29}"
   ]
  },
  {
   "cell_type": "code",
   "execution_count": 14,
   "metadata": {},
   "outputs": [],
   "source": [
    "with open(\"/Users/scarlettattensil/Downloads/my_file.json\", \"w\") as file:\n",
    "    json.dump(sampleJson, file, indent = 4, sort_keys=True)"
   ]
  },
  {
   "cell_type": "markdown",
   "metadata": {},
   "source": [
    "Exercise 5: Access the nested key ‘salary’ from the following JSON"
   ]
  },
  {
   "cell_type": "code",
   "execution_count": null,
   "metadata": {},
   "outputs": [],
   "source": [
    "sampleJson = \"\"\"{ \n",
    "   \"company\":{ \n",
    "      \"employee\":{ \n",
    "         \"name\":\"emma\",\n",
    "         \"payble\":{ \n",
    "            \"salary\":7000,\n",
    "            \"bonus\":800\n",
    "         }\n",
    "      }\n",
    "   }\n",
    "}\"\"\"\n"
   ]
  },
  {
   "cell_type": "code",
   "execution_count": 17,
   "metadata": {},
   "outputs": [
    {
     "name": "stdout",
     "output_type": "stream",
     "text": [
      "7000\n"
     ]
    }
   ],
   "source": [
    "my_dict = json.loads(sampleJson)\n",
    "print(my_dict['company']['employee']['payble']['salary'])"
   ]
  },
  {
   "cell_type": "markdown",
   "metadata": {},
   "source": [
    "Exercise 6: Convert the following Vehicle Object into JSON"
   ]
  },
  {
   "cell_type": "code",
   "execution_count": 18,
   "metadata": {},
   "outputs": [],
   "source": [
    "class Vehicle:\n",
    "    def __init__(self, name, engine, price):\n",
    "        self.name = name\n",
    "        self.engine = engine\n",
    "        self.price = price\n",
    "\n",
    "vehicle = Vehicle(\"Toyota Rav4\", \"2.5L\", 32000)"
   ]
  },
  {
   "cell_type": "code",
   "execution_count": null,
   "metadata": {},
   "outputs": [
    {
     "data": {
      "text/plain": [
       "'{\"name\": \"Toyota Rav4\", \"engine\": \"2.5L\", \"price\": 32000}'"
      ]
     },
     "execution_count": 20,
     "metadata": {},
     "output_type": "execute_result"
    }
   ],
   "source": [
    "json.dumps(vehicle.__dict__)"
   ]
  },
  {
   "cell_type": "code",
   "execution_count": null,
   "metadata": {},
   "outputs": [],
   "source": [
    "class Vehicle:\n",
    "    def __init__(self, name, engine, price):\n",
    "        self.name = name\n",
    "        self.engine = engine\n",
    "        self.price = price\n",
    "\n",
    "class VehicleEncoder(JSONEncoder):\n",
    "        def default(self, o):\n",
    "            return o.__dict__\n",
    "\n",
    "vehicle = Vehicle(\"Toyota Rav4\", \"2.5L\", 32000)\n",
    "\n",
    "print(\"Encode Vehicle Object into JSON\")\n",
    "vehicleJson = json.dumps(vehicle, indent=4, cls=VehicleEncoder)\n",
    "print(vehicleJson)"
   ]
  },
  {
   "cell_type": "markdown",
   "metadata": {},
   "source": [
    "Exercise 7: Convert the following JSON into Vehicle Object"
   ]
  },
  {
   "cell_type": "code",
   "execution_count": 21,
   "metadata": {},
   "outputs": [],
   "source": [
    "my_dict = { \"name\": \"Toyota Rav4\", \"engine\": \"2.5L\", \"price\": 32000 }\n",
    "vehicle = Vehicle(**my_dict)"
   ]
  },
  {
   "cell_type": "markdown",
   "metadata": {},
   "source": [
    "Exercise 8: Check whether following json is valid or invalid. If Invalid correct it"
   ]
  },
  {
   "cell_type": "code",
   "execution_count": 24,
   "metadata": {},
   "outputs": [],
   "source": [
    "my_string = '''{ \n",
    "   \"company\":{ \n",
    "      \"employee\":{ \n",
    "         \"name\":\"emma\",\n",
    "         \"payble\":{ \n",
    "            \"salary\":7000,\n",
    "            \"bonus\":800\n",
    "         }\n",
    "      }\n",
    "   }\n",
    "}'''\n",
    "\n",
    "my_dict = json.loads(my_string)"
   ]
  },
  {
   "cell_type": "code",
   "execution_count": 26,
   "metadata": {},
   "outputs": [
    {
     "name": "stdout",
     "output_type": "stream",
     "text": [
      "Given JSON string is Valid False\n"
     ]
    }
   ],
   "source": [
    "import json\n",
    "\n",
    "def validateJSON(jsonData):\n",
    "    try:\n",
    "        json.loads(jsonData)\n",
    "    except ValueError as err:\n",
    "        return False\n",
    "    return True\n",
    "\n",
    "InvalidJsonData = \"\"\"{ \"company\":{ \"employee\":{ \"name\":\"emma\", \"payble\":{ \"salary\":7000 \"bonus\":800} } } }\"\"\"\n",
    "isValid = validateJSON(InvalidJsonData)\n",
    "\n",
    "print(\"Given JSON string is Valid\", isValid)"
   ]
  },
  {
   "cell_type": "code",
   "execution_count": 25,
   "metadata": {},
   "outputs": [
    {
     "name": "stdout",
     "output_type": "stream",
     "text": [
      "zsh:1: parse error near `}'\n"
     ]
    }
   ],
   "source": [
    "#run in terminal:\n",
    "!echo { \"company\":{ \"employee\":{ \"name\":\"emma\", \"payble\":{ \"salary\":7000 \"bonus\":800} } } } | python -m json.tool\n"
   ]
  },
  {
   "cell_type": "markdown",
   "metadata": {},
   "source": [
    "Exercise 9: Parse the following JSON to get all the values of a key ‘name’ within an array"
   ]
  },
  {
   "cell_type": "code",
   "execution_count": 2,
   "metadata": {},
   "outputs": [],
   "source": [
    "my_string = '''[ \n",
    "   { \n",
    "      \"id\":1,\n",
    "      \"name\":\"name1\",\n",
    "      \"color\":[ \n",
    "         \"red\",\n",
    "         \"green\"\n",
    "      ]\n",
    "   },\n",
    "   { \n",
    "      \"id\":2,\n",
    "      \"name\":\"name2\",\n",
    "      \"color\":[ \n",
    "         \"pink\",\n",
    "         \"yellow\"\n",
    "      ]\n",
    "   }\n",
    "]'''\n"
   ]
  },
  {
   "cell_type": "code",
   "execution_count": 6,
   "metadata": {},
   "outputs": [
    {
     "data": {
      "text/plain": [
       "['name1', 'name2']"
      ]
     },
     "execution_count": 6,
     "metadata": {},
     "output_type": "execute_result"
    }
   ],
   "source": [
    "[i['name'] for i in json.loads(my_string)]"
   ]
  },
  {
   "cell_type": "code",
   "execution_count": 2,
   "metadata": {},
   "outputs": [],
   "source": [
    "events = '''[\n",
    "    {\"yard_id\": \"Y1\", \"trailer_id\": \"T1\", \"event_type\": \"arrival\", \"timestamp\": \"2024-11-25T08:00:00\"},\n",
    "    {\"yard_id\": \"Y1\", \"trailer_id\": \"T1\", \"event_type\": \"departure\", \"timestamp\": \"2024-11-25T14:00:00\"},\n",
    "    {\"yard_id\": \"Y2\", \"trailer_id\": \"T2\", \"event_type\": \"arrival\", \"timestamp\": \"2024-11-25T09:00:00\"},\n",
    "    {\"yard_id\": \"Y2\", \"trailer_id\": \"T2\", \"event_type\": \"departure\", \"timestamp\": \"2024-11-25T18:00:00\"},\n",
    "    {\"yard_id\": \"Y1\", \"trailer_id\": \"T3\", \"event_type\": \"arrival\", \"timestamp\": \"2024-11-25T10:00:00\"},\n",
    "    {\"yard_id\": \"Y1\", \"trailer_id\": \"T3\", \"event_type\": \"departure\", \"timestamp\": \"2024-11-25T15:00:00\"}\n",
    "]'''\n"
   ]
  },
  {
   "cell_type": "code",
   "execution_count": 3,
   "metadata": {},
   "outputs": [
    {
     "data": {
      "text/html": [
       "<div>\n",
       "<style scoped>\n",
       "    .dataframe tbody tr th:only-of-type {\n",
       "        vertical-align: middle;\n",
       "    }\n",
       "\n",
       "    .dataframe tbody tr th {\n",
       "        vertical-align: top;\n",
       "    }\n",
       "\n",
       "    .dataframe thead th {\n",
       "        text-align: right;\n",
       "    }\n",
       "</style>\n",
       "<table border=\"1\" class=\"dataframe\">\n",
       "  <thead>\n",
       "    <tr style=\"text-align: right;\">\n",
       "      <th></th>\n",
       "      <th>yard_id</th>\n",
       "      <th>trailer_id</th>\n",
       "      <th>event_type</th>\n",
       "      <th>timestamp</th>\n",
       "    </tr>\n",
       "  </thead>\n",
       "  <tbody>\n",
       "    <tr>\n",
       "      <th>0</th>\n",
       "      <td>Y1</td>\n",
       "      <td>T1</td>\n",
       "      <td>arrival</td>\n",
       "      <td>2024-11-25 08:00:00</td>\n",
       "    </tr>\n",
       "    <tr>\n",
       "      <th>1</th>\n",
       "      <td>Y1</td>\n",
       "      <td>T1</td>\n",
       "      <td>departure</td>\n",
       "      <td>2024-11-25 14:00:00</td>\n",
       "    </tr>\n",
       "    <tr>\n",
       "      <th>2</th>\n",
       "      <td>Y2</td>\n",
       "      <td>T2</td>\n",
       "      <td>arrival</td>\n",
       "      <td>2024-11-25 09:00:00</td>\n",
       "    </tr>\n",
       "    <tr>\n",
       "      <th>3</th>\n",
       "      <td>Y2</td>\n",
       "      <td>T2</td>\n",
       "      <td>departure</td>\n",
       "      <td>2024-11-25 18:00:00</td>\n",
       "    </tr>\n",
       "    <tr>\n",
       "      <th>4</th>\n",
       "      <td>Y1</td>\n",
       "      <td>T3</td>\n",
       "      <td>arrival</td>\n",
       "      <td>2024-11-25 10:00:00</td>\n",
       "    </tr>\n",
       "    <tr>\n",
       "      <th>5</th>\n",
       "      <td>Y1</td>\n",
       "      <td>T3</td>\n",
       "      <td>departure</td>\n",
       "      <td>2024-11-25 15:00:00</td>\n",
       "    </tr>\n",
       "  </tbody>\n",
       "</table>\n",
       "</div>"
      ],
      "text/plain": [
       "  yard_id trailer_id event_type           timestamp\n",
       "0      Y1         T1    arrival 2024-11-25 08:00:00\n",
       "1      Y1         T1  departure 2024-11-25 14:00:00\n",
       "2      Y2         T2    arrival 2024-11-25 09:00:00\n",
       "3      Y2         T2  departure 2024-11-25 18:00:00\n",
       "4      Y1         T3    arrival 2024-11-25 10:00:00\n",
       "5      Y1         T3  departure 2024-11-25 15:00:00"
      ]
     },
     "execution_count": 3,
     "metadata": {},
     "output_type": "execute_result"
    }
   ],
   "source": [
    "data = pd.DataFrame(json.loads(events))\n",
    "data['timestamp'] = pd.to_datetime(data['timestamp'])\n",
    "data"
   ]
  },
  {
   "cell_type": "code",
   "execution_count": 4,
   "metadata": {},
   "outputs": [
    {
     "name": "stdout",
     "output_type": "stream",
     "text": [
      "yard_id\n",
      "Y1    2\n",
      "Y2    1\n",
      "Name: trailer_id, dtype: int64\n"
     ]
    }
   ],
   "source": [
    "#Total number of unique trailers that visited each yard.\n",
    "result = data.groupby(['yard_id'])['trailer_id'].nunique()\n",
    "print(result)"
   ]
  },
  {
   "cell_type": "code",
   "execution_count": 5,
   "metadata": {},
   "outputs": [
    {
     "name": "stdout",
     "output_type": "stream",
     "text": [
      "yard_id\n",
      "Y1    2\n",
      "Y2    1\n",
      "Name: trailer_id, dtype: int64\n"
     ]
    }
   ],
   "source": [
    "#The yard with the most trailer visits (count each trailer separately, even if it visited multiple times).\n",
    "arrivals = data[data['event_type'] == 'arrival']\n",
    "result = arrivals .groupby(['yard_id'])['trailer_id'].count()\n",
    "print(result)"
   ]
  },
  {
   "cell_type": "code",
   "execution_count": 7,
   "metadata": {},
   "outputs": [
    {
     "name": "stdout",
     "output_type": "stream",
     "text": [
      "2024-11-25 15:00:00 2024-11-25 10:00:00 T3 Y1\n",
      "2024-11-25 14:00:00 2024-11-25 08:00:00 T1 Y1\n",
      "2024-11-25 18:00:00 2024-11-25 09:00:00 T2 Y2\n"
     ]
    },
    {
     "data": {
      "text/plain": [
       "400.0"
      ]
     },
     "execution_count": 7,
     "metadata": {},
     "output_type": "execute_result"
    }
   ],
   "source": [
    "#Average time trailers spend parked in each yard.\n",
    "times = []\n",
    "for i  in set(data['trailer_id']):\n",
    "    for j  in set(data['yard_id']):\n",
    "        if len(data[(data['trailer_id']==i) & (data['yard_id']==j)])  > 0:\n",
    "            max_time = data[(data['trailer_id']==i) & (data['yard_id']==j)]['timestamp'].max()\n",
    "            min_time = data[(data['trailer_id']==i) & (data['yard_id']==j)]['timestamp'].min()\n",
    "            print(max_time, min_time, i, j)\n",
    "            times.append((max_time- min_time).total_seconds() / 60)\n",
    "\n",
    "sum(times)/len(times)\n"
   ]
  },
  {
   "cell_type": "code",
   "execution_count": 8,
   "metadata": {},
   "outputs": [
    {
     "ename": "NameError",
     "evalue": "name 'stay_durations' is not defined",
     "output_type": "error",
     "traceback": [
      "\u001b[0;31m---------------------------------------------------------------------------\u001b[0m",
      "\u001b[0;31mNameError\u001b[0m                                 Traceback (most recent call last)",
      "Cell \u001b[0;32mIn[8], line 1\u001b[0m\n\u001b[0;32m----> 1\u001b[0m \u001b[38;5;28mmax\u001b[39m(\u001b[43mstay_durations\u001b[49m)\n",
      "\u001b[0;31mNameError\u001b[0m: name 'stay_durations' is not defined"
     ]
    }
   ],
   "source": [
    "max(stay_durations)"
   ]
  },
  {
   "cell_type": "code",
   "execution_count": 12,
   "metadata": {},
   "outputs": [
    {
     "data": {
      "text/plain": [
       "['Y2']"
      ]
     },
     "execution_count": 12,
     "metadata": {},
     "output_type": "execute_result"
    }
   ],
   "source": [
    "#Identify the yard with the highest average parking duration.\n",
    "times = {}\n",
    "for i  in set(data['trailer_id']):\n",
    "    for j  in set(data['yard_id']):\n",
    "        if len(data[(data['trailer_id']==i) & (data['yard_id']==j)])  > 0:\n",
    "            max_time = data[(data['trailer_id']==i) & (data['yard_id']==j)]['timestamp'].max()\n",
    "            min_time = data[(data['trailer_id']==i) & (data['yard_id']==j)]['timestamp'].min()\n",
    "            times[(i,j)] = (max_time - min_time).total_seconds() / 60\n",
    "\n",
    "stay_durations = [float(v) for k,v in times.items()]\n",
    "max_duration = max(stay_durations)\n",
    "[k[1] for k, v in times.items() if v == max_duration]"
   ]
  },
  {
   "cell_type": "code",
   "execution_count": 13,
   "metadata": {},
   "outputs": [
    {
     "name": "stdout",
     "output_type": "stream",
     "text": [
      "The yard with the highest average parking duration is: Y2\n"
     ]
    }
   ],
   "source": [
    "import pandas as pd\n",
    "\n",
    "# Initialize a dictionary to store total durations and counts per yard\n",
    "yard_durations = {}\n",
    "\n",
    "# Iterate over unique trailer and yard pairs\n",
    "for trailer_id in data['trailer_id'].unique():\n",
    "    for yard_id in data['yard_id'].unique():\n",
    "        # Filter data for the current trailer_id and yard_id\n",
    "        filtered_data = data[(data['trailer_id'] == trailer_id) & (data['yard_id'] == yard_id)]\n",
    "        \n",
    "        # If there are any records for this trailer-yard pair\n",
    "        if len(filtered_data) > 0:\n",
    "            # Calculate max and min timestamps for the filtered data\n",
    "            max_time = filtered_data['timestamp'].max()\n",
    "            min_time = filtered_data['timestamp'].min()\n",
    "            \n",
    "            # Calculate parking duration in minutes\n",
    "            duration_minutes = (max_time - min_time).total_seconds() / 60\n",
    "            \n",
    "            # Accumulate total duration and count for the yard\n",
    "            if yard_id in yard_durations:\n",
    "                yard_durations[yard_id]['total_duration'] += duration_minutes\n",
    "                yard_durations[yard_id]['count'] += 1\n",
    "            else:\n",
    "                yard_durations[yard_id] = {'total_duration': duration_minutes, 'count': 1}\n",
    "\n",
    "# Calculate the average parking duration for each yard\n",
    "average_durations = {yard: info['total_duration'] / info['count'] for yard, info in yard_durations.items()}\n",
    "\n",
    "# Find the yard with the highest average parking duration\n",
    "max_yard = max(average_durations, key=average_durations.get)\n",
    "print(f\"The yard with the highest average parking duration is: {max_yard}\")\n"
   ]
  },
  {
   "cell_type": "code",
   "execution_count": 15,
   "metadata": {},
   "outputs": [],
   "source": [
    "string = '''[\n",
    "  {\n",
    "    \"order_id\": \"O001\",\n",
    "    \"customer_id\": \"C001\",\n",
    "    \"products\": [\n",
    "      {\"product_id\": \"P001\", \"quantity\": 2, \"price_per_unit\": 10.0},\n",
    "      {\"product_id\": \"P002\", \"quantity\": 1, \"price_per_unit\": 15.0}\n",
    "    ],\n",
    "    \"order_date\": \"2024-11-01\"\n",
    "  },\n",
    "  {\n",
    "    \"order_id\": \"O002\",\n",
    "    \"customer_id\": \"C002\",\n",
    "    \"products\": [\n",
    "      {\"product_id\": \"P003\", \"quantity\": 3, \"price_per_unit\": 20.0}\n",
    "    ],\n",
    "    \"order_date\": \"2024-11-02\"\n",
    "  },\n",
    "  {\n",
    "    \"order_id\": \"O003\",\n",
    "    \"customer_id\": \"C001\",\n",
    "    \"products\": [\n",
    "      {\"product_id\": \"P001\", \"quantity\": 1, \"price_per_unit\": 10.0},\n",
    "      {\"product_id\": \"P004\", \"quantity\": 2, \"price_per_unit\": 30.0}\n",
    "    ],\n",
    "    \"order_date\": \"2024-11-03\"\n",
    "  }\n",
    "]'''\n"
   ]
  },
  {
   "cell_type": "code",
   "execution_count": 17,
   "metadata": {},
   "outputs": [
    {
     "data": {
      "text/html": [
       "<div>\n",
       "<style scoped>\n",
       "    .dataframe tbody tr th:only-of-type {\n",
       "        vertical-align: middle;\n",
       "    }\n",
       "\n",
       "    .dataframe tbody tr th {\n",
       "        vertical-align: top;\n",
       "    }\n",
       "\n",
       "    .dataframe thead th {\n",
       "        text-align: right;\n",
       "    }\n",
       "</style>\n",
       "<table border=\"1\" class=\"dataframe\">\n",
       "  <thead>\n",
       "    <tr style=\"text-align: right;\">\n",
       "      <th></th>\n",
       "      <th>order_id</th>\n",
       "      <th>customer_id</th>\n",
       "      <th>products</th>\n",
       "      <th>order_date</th>\n",
       "    </tr>\n",
       "  </thead>\n",
       "  <tbody>\n",
       "    <tr>\n",
       "      <th>0</th>\n",
       "      <td>O001</td>\n",
       "      <td>C001</td>\n",
       "      <td>[{'product_id': 'P001', 'quantity': 2, 'price_...</td>\n",
       "      <td>2024-11-01</td>\n",
       "    </tr>\n",
       "    <tr>\n",
       "      <th>1</th>\n",
       "      <td>O002</td>\n",
       "      <td>C002</td>\n",
       "      <td>[{'product_id': 'P003', 'quantity': 3, 'price_...</td>\n",
       "      <td>2024-11-02</td>\n",
       "    </tr>\n",
       "    <tr>\n",
       "      <th>2</th>\n",
       "      <td>O003</td>\n",
       "      <td>C001</td>\n",
       "      <td>[{'product_id': 'P001', 'quantity': 1, 'price_...</td>\n",
       "      <td>2024-11-03</td>\n",
       "    </tr>\n",
       "  </tbody>\n",
       "</table>\n",
       "</div>"
      ],
      "text/plain": [
       "  order_id customer_id                                           products  \\\n",
       "0     O001        C001  [{'product_id': 'P001', 'quantity': 2, 'price_...   \n",
       "1     O002        C002  [{'product_id': 'P003', 'quantity': 3, 'price_...   \n",
       "2     O003        C001  [{'product_id': 'P001', 'quantity': 1, 'price_...   \n",
       "\n",
       "   order_date  \n",
       "0  2024-11-01  \n",
       "1  2024-11-02  \n",
       "2  2024-11-03  "
      ]
     },
     "execution_count": 17,
     "metadata": {},
     "output_type": "execute_result"
    }
   ],
   "source": [
    "my_data = pd.DataFrame(json.loads(string))\n",
    "my_data"
   ]
  },
  {
   "cell_type": "code",
   "execution_count": 23,
   "metadata": {},
   "outputs": [
    {
     "data": {
      "text/plain": [
       "[  product_id  quantity  price_per_unit order_id customer_id  order_date\n",
       " 0       P001         2            10.0     O001        C001  2024-11-01\n",
       " 1       P002         1            15.0     O001        C001  2024-11-01,\n",
       "   product_id  quantity  price_per_unit order_id customer_id  order_date\n",
       " 0       P003         3            20.0     O002        C002  2024-11-02,\n",
       "   product_id  quantity  price_per_unit order_id customer_id  order_date\n",
       " 0       P001         1            10.0     O003        C001  2024-11-03\n",
       " 1       P004         2            30.0     O003        C001  2024-11-03]"
      ]
     },
     "execution_count": 23,
     "metadata": {},
     "output_type": "execute_result"
    }
   ],
   "source": [
    "expanded"
   ]
  },
  {
   "cell_type": "code",
   "execution_count": null,
   "metadata": {},
   "outputs": [
    {
     "data": {
      "text/html": [
       "<div>\n",
       "<style scoped>\n",
       "    .dataframe tbody tr th:only-of-type {\n",
       "        vertical-align: middle;\n",
       "    }\n",
       "\n",
       "    .dataframe tbody tr th {\n",
       "        vertical-align: top;\n",
       "    }\n",
       "\n",
       "    .dataframe thead th {\n",
       "        text-align: right;\n",
       "    }\n",
       "</style>\n",
       "<table border=\"1\" class=\"dataframe\">\n",
       "  <thead>\n",
       "    <tr style=\"text-align: right;\">\n",
       "      <th></th>\n",
       "      <th>product_id</th>\n",
       "      <th>quantity</th>\n",
       "      <th>price_per_unit</th>\n",
       "      <th>order_id</th>\n",
       "      <th>customer_id</th>\n",
       "      <th>order_date</th>\n",
       "    </tr>\n",
       "  </thead>\n",
       "  <tbody>\n",
       "    <tr>\n",
       "      <th>0</th>\n",
       "      <td>P001</td>\n",
       "      <td>2</td>\n",
       "      <td>10.0</td>\n",
       "      <td>O001</td>\n",
       "      <td>C001</td>\n",
       "      <td>2024-11-01</td>\n",
       "    </tr>\n",
       "    <tr>\n",
       "      <th>1</th>\n",
       "      <td>P002</td>\n",
       "      <td>1</td>\n",
       "      <td>15.0</td>\n",
       "      <td>O001</td>\n",
       "      <td>C001</td>\n",
       "      <td>2024-11-01</td>\n",
       "    </tr>\n",
       "    <tr>\n",
       "      <th>0</th>\n",
       "      <td>P003</td>\n",
       "      <td>3</td>\n",
       "      <td>20.0</td>\n",
       "      <td>O002</td>\n",
       "      <td>C002</td>\n",
       "      <td>2024-11-02</td>\n",
       "    </tr>\n",
       "    <tr>\n",
       "      <th>0</th>\n",
       "      <td>P001</td>\n",
       "      <td>1</td>\n",
       "      <td>10.0</td>\n",
       "      <td>O003</td>\n",
       "      <td>C001</td>\n",
       "      <td>2024-11-03</td>\n",
       "    </tr>\n",
       "    <tr>\n",
       "      <th>1</th>\n",
       "      <td>P004</td>\n",
       "      <td>2</td>\n",
       "      <td>30.0</td>\n",
       "      <td>O003</td>\n",
       "      <td>C001</td>\n",
       "      <td>2024-11-03</td>\n",
       "    </tr>\n",
       "  </tbody>\n",
       "</table>\n",
       "</div>"
      ],
      "text/plain": [
       "  product_id  quantity  price_per_unit order_id customer_id  order_date\n",
       "0       P001         2            10.0     O001        C001  2024-11-01\n",
       "1       P002         1            15.0     O001        C001  2024-11-01\n",
       "0       P003         3            20.0     O002        C002  2024-11-02\n",
       "0       P001         1            10.0     O003        C001  2024-11-03\n",
       "1       P004         2            30.0     O003        C001  2024-11-03"
      ]
     },
     "execution_count": 24,
     "metadata": {},
     "output_type": "execute_result"
    }
   ],
   "source": [
    "expanded = pd.DataFrame()\n",
    "for index, row in my_data.iterrows():\n",
    "    data = pd.DataFrame(row['products'])\n",
    "    data['order_id'] = row['order_id']\n",
    "    data['customer_id'] = row['customer_id']\n",
    "    data['order_date'] = row['order_date']\n",
    "    expanded = pd.concat([expanded, data])\n",
    "\n",
    "expanded\n"
   ]
  },
  {
   "cell_type": "markdown",
   "metadata": {},
   "source": [
    "Customer who spent the most:\n",
    "\n",
    "    Identify the customer and the total amount they spent.\n",
    "\n",
    "Most popular product:\n",
    "\n",
    "    Identify the product and the total quantity purchased.\n",
    "\n",
    "Summary Report:\n",
    "\n",
    "    A table showing each customer's total spend and the number of orders they placed."
   ]
  },
  {
   "cell_type": "code",
   "execution_count": 37,
   "metadata": {},
   "outputs": [
    {
     "data": {
      "text/html": [
       "<div>\n",
       "<style scoped>\n",
       "    .dataframe tbody tr th:only-of-type {\n",
       "        vertical-align: middle;\n",
       "    }\n",
       "\n",
       "    .dataframe tbody tr th {\n",
       "        vertical-align: top;\n",
       "    }\n",
       "\n",
       "    .dataframe thead th {\n",
       "        text-align: right;\n",
       "    }\n",
       "</style>\n",
       "<table border=\"1\" class=\"dataframe\">\n",
       "  <thead>\n",
       "    <tr style=\"text-align: right;\">\n",
       "      <th></th>\n",
       "      <th>customer_id</th>\n",
       "      <th>total_spend</th>\n",
       "    </tr>\n",
       "  </thead>\n",
       "  <tbody>\n",
       "    <tr>\n",
       "      <th>0</th>\n",
       "      <td>C001</td>\n",
       "      <td>105.0</td>\n",
       "    </tr>\n",
       "  </tbody>\n",
       "</table>\n",
       "</div>"
      ],
      "text/plain": [
       "  customer_id  total_spend\n",
       "0        C001        105.0"
      ]
     },
     "execution_count": 37,
     "metadata": {},
     "output_type": "execute_result"
    }
   ],
   "source": [
    "expanded['item_total'] = expanded['quantity']*expanded['price_per_unit']\n",
    "grouped = expanded.groupby('customer_id').agg(\n",
    "    total_quantity=('quantity', 'sum'),\n",
    "    total_spend=('item_total', 'sum')\n",
    ")\n",
    "grouped = grouped.reset_index()\n",
    "grouped.sort_values('total_spend', ascending = False)[['customer_id','total_spend']].head(1)"
   ]
  },
  {
   "cell_type": "code",
   "execution_count": null,
   "metadata": {},
   "outputs": [],
   "source": [
    "#Suggested Improvement (Optimized Sorting):\n",
    "\n",
    "top_customer = grouped.loc[grouped['total_spend'].idxmax()]"
   ]
  },
  {
   "cell_type": "code",
   "execution_count": null,
   "metadata": {},
   "outputs": [
    {
     "data": {
      "text/html": [
       "<div>\n",
       "<style scoped>\n",
       "    .dataframe tbody tr th:only-of-type {\n",
       "        vertical-align: middle;\n",
       "    }\n",
       "\n",
       "    .dataframe tbody tr th {\n",
       "        vertical-align: top;\n",
       "    }\n",
       "\n",
       "    .dataframe thead th {\n",
       "        text-align: right;\n",
       "    }\n",
       "</style>\n",
       "<table border=\"1\" class=\"dataframe\">\n",
       "  <thead>\n",
       "    <tr style=\"text-align: right;\">\n",
       "      <th></th>\n",
       "      <th>product_id</th>\n",
       "      <th>total_quantity</th>\n",
       "    </tr>\n",
       "  </thead>\n",
       "  <tbody>\n",
       "    <tr>\n",
       "      <th>0</th>\n",
       "      <td>P001</td>\n",
       "      <td>3</td>\n",
       "    </tr>\n",
       "  </tbody>\n",
       "</table>\n",
       "</div>"
      ],
      "text/plain": [
       "  product_id  total_quantity\n",
       "0       P001               3"
      ]
     },
     "execution_count": 38,
     "metadata": {},
     "output_type": "execute_result"
    }
   ],
   "source": [
    "expanded['item_total'] = expanded['quantity']*expanded['price_per_unit']\n",
    "grouped = expanded.groupby('product_id').agg(\n",
    "    total_quantity=('quantity', 'sum'),\n",
    "    total_spend=('item_total', 'sum')\n",
    ")\n",
    "grouped = grouped.reset_index()\n",
    "grouped.sort_values('total_quantity', ascending = False)[['product_id','total_quantity']].head(1)"
   ]
  },
  {
   "cell_type": "code",
   "execution_count": 41,
   "metadata": {},
   "outputs": [
    {
     "data": {
      "text/html": [
       "<div>\n",
       "<style scoped>\n",
       "    .dataframe tbody tr th:only-of-type {\n",
       "        vertical-align: middle;\n",
       "    }\n",
       "\n",
       "    .dataframe tbody tr th {\n",
       "        vertical-align: top;\n",
       "    }\n",
       "\n",
       "    .dataframe thead th {\n",
       "        text-align: right;\n",
       "    }\n",
       "</style>\n",
       "<table border=\"1\" class=\"dataframe\">\n",
       "  <thead>\n",
       "    <tr style=\"text-align: right;\">\n",
       "      <th></th>\n",
       "      <th>customer_id</th>\n",
       "      <th>total_quantity</th>\n",
       "      <th>total_spend</th>\n",
       "      <th>total_orders</th>\n",
       "    </tr>\n",
       "  </thead>\n",
       "  <tbody>\n",
       "    <tr>\n",
       "      <th>0</th>\n",
       "      <td>C001</td>\n",
       "      <td>6</td>\n",
       "      <td>105.0</td>\n",
       "      <td>2</td>\n",
       "    </tr>\n",
       "    <tr>\n",
       "      <th>1</th>\n",
       "      <td>C002</td>\n",
       "      <td>3</td>\n",
       "      <td>60.0</td>\n",
       "      <td>1</td>\n",
       "    </tr>\n",
       "  </tbody>\n",
       "</table>\n",
       "</div>"
      ],
      "text/plain": [
       "  customer_id  total_quantity  total_spend  total_orders\n",
       "0        C001               6        105.0             2\n",
       "1        C002               3         60.0             1"
      ]
     },
     "execution_count": 41,
     "metadata": {},
     "output_type": "execute_result"
    }
   ],
   "source": [
    "expanded['item_total'] = expanded['quantity']*expanded['price_per_unit']\n",
    "grouped = expanded.groupby('customer_id').agg(\n",
    "    total_quantity=('quantity', 'sum'),\n",
    "    total_spend=('item_total', 'sum'),\n",
    "    total_orders=('order_id', 'nunique')\n",
    ")\n",
    "grouped = grouped.reset_index()\n",
    "grouped"
   ]
  },
  {
   "cell_type": "code",
   "execution_count": 42,
   "metadata": {},
   "outputs": [
    {
     "data": {
      "text/html": [
       "<div>\n",
       "<style scoped>\n",
       "    .dataframe tbody tr th:only-of-type {\n",
       "        vertical-align: middle;\n",
       "    }\n",
       "\n",
       "    .dataframe tbody tr th {\n",
       "        vertical-align: top;\n",
       "    }\n",
       "\n",
       "    .dataframe thead th {\n",
       "        text-align: right;\n",
       "    }\n",
       "</style>\n",
       "<table border=\"1\" class=\"dataframe\">\n",
       "  <thead>\n",
       "    <tr style=\"text-align: right;\">\n",
       "      <th></th>\n",
       "      <th>delivery_id</th>\n",
       "      <th>warehouse_id</th>\n",
       "      <th>customer_id</th>\n",
       "      <th>delivery_time</th>\n",
       "      <th>delivery_lat</th>\n",
       "      <th>delivery_lon</th>\n",
       "      <th>quantity</th>\n",
       "      <th>price_per_unit</th>\n",
       "    </tr>\n",
       "  </thead>\n",
       "  <tbody>\n",
       "    <tr>\n",
       "      <th>0</th>\n",
       "      <td>5394</td>\n",
       "      <td>1</td>\n",
       "      <td>28</td>\n",
       "      <td>2024-08-27T11:06:25.984959</td>\n",
       "      <td>40.674887</td>\n",
       "      <td>-105.720556</td>\n",
       "      <td>82</td>\n",
       "      <td>87.208978</td>\n",
       "    </tr>\n",
       "    <tr>\n",
       "      <th>1</th>\n",
       "      <td>1480</td>\n",
       "      <td>3</td>\n",
       "      <td>27</td>\n",
       "      <td>2024-11-19T11:06:25.984984</td>\n",
       "      <td>42.356076</td>\n",
       "      <td>-105.445706</td>\n",
       "      <td>46</td>\n",
       "      <td>163.552150</td>\n",
       "    </tr>\n",
       "    <tr>\n",
       "      <th>2</th>\n",
       "      <td>5365</td>\n",
       "      <td>4</td>\n",
       "      <td>13</td>\n",
       "      <td>2024-07-07T11:06:25.984989</td>\n",
       "      <td>28.041055</td>\n",
       "      <td>-95.662774</td>\n",
       "      <td>87</td>\n",
       "      <td>253.834508</td>\n",
       "    </tr>\n",
       "    <tr>\n",
       "      <th>3</th>\n",
       "      <td>8360</td>\n",
       "      <td>7</td>\n",
       "      <td>7</td>\n",
       "      <td>2024-07-20T11:06:25.984993</td>\n",
       "      <td>31.345729</td>\n",
       "      <td>-76.639498</td>\n",
       "      <td>62</td>\n",
       "      <td>228.153325</td>\n",
       "    </tr>\n",
       "    <tr>\n",
       "      <th>4</th>\n",
       "      <td>2323</td>\n",
       "      <td>9</td>\n",
       "      <td>44</td>\n",
       "      <td>2024-06-22T11:06:25.984997</td>\n",
       "      <td>37.464349</td>\n",
       "      <td>-94.080045</td>\n",
       "      <td>50</td>\n",
       "      <td>284.222253</td>\n",
       "    </tr>\n",
       "  </tbody>\n",
       "</table>\n",
       "</div>"
      ],
      "text/plain": [
       "   delivery_id  warehouse_id  customer_id               delivery_time  \\\n",
       "0         5394             1           28  2024-08-27T11:06:25.984959   \n",
       "1         1480             3           27  2024-11-19T11:06:25.984984   \n",
       "2         5365             4           13  2024-07-07T11:06:25.984989   \n",
       "3         8360             7            7  2024-07-20T11:06:25.984993   \n",
       "4         2323             9           44  2024-06-22T11:06:25.984997   \n",
       "\n",
       "   delivery_lat  delivery_lon  quantity  price_per_unit  \n",
       "0     40.674887   -105.720556        82       87.208978  \n",
       "1     42.356076   -105.445706        46      163.552150  \n",
       "2     28.041055    -95.662774        87      253.834508  \n",
       "3     31.345729    -76.639498        62      228.153325  \n",
       "4     37.464349    -94.080045        50      284.222253  "
      ]
     },
     "execution_count": 42,
     "metadata": {},
     "output_type": "execute_result"
    }
   ],
   "source": [
    "import pandas as pd\n",
    "import random\n",
    "from datetime import datetime, timedelta\n",
    "import json\n",
    "\n",
    "# Helper function to generate random coordinates\n",
    "def random_coordinates():\n",
    "    # Generate random latitude and longitude within a specific range (approximate for US)\n",
    "    lat = random.uniform(24.396308, 49.384358)  # Latitude range in the US\n",
    "    lon = random.uniform(-125.0, -66.93457)  # Longitude range in the US\n",
    "    return lat, lon\n",
    "\n",
    "# Generate random data for deliveries\n",
    "def generate_random_data(num_records):\n",
    "    data = []\n",
    "    for _ in range(num_records):\n",
    "        delivery_id = random.randint(1000, 9999)\n",
    "        warehouse_id = random.randint(1, 10)  # 10 warehouses\n",
    "        customer_id = random.randint(1, 50)  # 50 customers\n",
    "        quantity = random.randint(1, 100)\n",
    "        price_per_unit = random.uniform(10.0, 500.0)\n",
    "        \n",
    "        # Random delivery time within the last 6 months\n",
    "        delivery_time = datetime.now() - timedelta(days=random.randint(1, 180))\n",
    "        \n",
    "        # Random coordinates\n",
    "        lat, lon = random_coordinates()\n",
    "\n",
    "        # Create record\n",
    "        data.append({\n",
    "            \"delivery_id\": delivery_id,\n",
    "            \"warehouse_id\": warehouse_id,\n",
    "            \"customer_id\": customer_id,\n",
    "            \"delivery_time\": delivery_time.isoformat(),\n",
    "            \"delivery_lat\": lat,\n",
    "            \"delivery_lon\": lon,\n",
    "            \"quantity\": quantity,\n",
    "            \"price_per_unit\": price_per_unit\n",
    "        })\n",
    "    \n",
    "    return data\n",
    "\n",
    "# Generate 100 records of random delivery data\n",
    "num_records = 100\n",
    "random_data = generate_random_data(num_records)\n",
    "\n",
    "# Convert to JSON string for easy manipulation\n",
    "json_data = json.dumps(random_data, indent=4)\n",
    "\n",
    "# Load data into pandas DataFrame\n",
    "my_data = pd.DataFrame(random_data)\n",
    "\n",
    "my_data.head()  # Display first 5 rows of the generated data\n"
   ]
  },
  {
   "cell_type": "markdown",
   "metadata": {},
   "source": [
    "Identify the customer who made the most deliveries (based on the number of deliveries)."
   ]
  },
  {
   "cell_type": "code",
   "execution_count": 45,
   "metadata": {},
   "outputs": [
    {
     "data": {
      "text/plain": [
       "customer_id          49.000000\n",
       "deliveries            7.000000\n",
       "customer_spend    72828.826174\n",
       "Name: 42, dtype: float64"
      ]
     },
     "execution_count": 45,
     "metadata": {},
     "output_type": "execute_result"
    }
   ],
   "source": [
    "my_data['total_price'] = my_data['quantity']*my_data['price_per_unit']\n",
    "grouped = my_data.groupby('customer_id').agg(deliveries= ('delivery_id', 'nunique'),customer_spend= ('total_price', 'sum'))\n",
    "grouped = grouped.reset_index()\n",
    "grouped.loc[grouped['deliveries'].idxmax()]"
   ]
  },
  {
   "cell_type": "markdown",
   "metadata": {},
   "source": [
    "Identify the warehouse with the highest total quantity of items delivered."
   ]
  },
  {
   "cell_type": "code",
   "execution_count": 46,
   "metadata": {},
   "outputs": [
    {
     "data": {
      "text/plain": [
       "warehouse_id             1.000000\n",
       "deliveries              13.000000\n",
       "grouped_spend       216122.277668\n",
       "grouped_quantity       837.000000\n",
       "Name: 0, dtype: float64"
      ]
     },
     "execution_count": 46,
     "metadata": {},
     "output_type": "execute_result"
    }
   ],
   "source": [
    "grouped = my_data.groupby('warehouse_id').agg(deliveries= ('delivery_id', 'nunique'),grouped_spend= ('total_price', 'sum'),grouped_quantity= ('quantity', 'sum'))\n",
    "grouped = grouped.reset_index()\n",
    "grouped.loc[grouped['grouped_quantity'].idxmax()]"
   ]
  },
  {
   "cell_type": "markdown",
   "metadata": {},
   "source": [
    "Find the total revenue generated in the month of June 2024. (Hint: You may need to filter delivery_time by month and year)."
   ]
  },
  {
   "cell_type": "code",
   "execution_count": 62,
   "metadata": {},
   "outputs": [
    {
     "data": {
      "text/plain": [
       "321093.4085061868"
      ]
     },
     "execution_count": 62,
     "metadata": {},
     "output_type": "execute_result"
    }
   ],
   "source": [
    "my_data['delivery_time'] = pd.to_datetime(my_data['delivery_time'])\n",
    "my_data['month'] = my_data['delivery_time'].dt.month\n",
    "my_data['year'] = my_data['delivery_time'].dt.year\n",
    "filtered = my_data[(my_data['month'] == 6) & (my_data['year'] == 2024)]\n",
    "sum(filtered['total_price'])"
   ]
  },
  {
   "cell_type": "markdown",
   "metadata": {},
   "source": [
    "Identify the delivery closest to a specific location (e.g., lat=37.7749, lon=-122.4194 for San Francisco)."
   ]
  },
  {
   "cell_type": "code",
   "execution_count": 68,
   "metadata": {},
   "outputs": [
    {
     "data": {
      "text/plain": [
       "delivery_id                             7651\n",
       "warehouse_id                               1\n",
       "customer_id                                7\n",
       "delivery_time     2024-10-07 11:06:25.985011\n",
       "delivery_lat                       39.413066\n",
       "delivery_lon                     -121.527307\n",
       "quantity                                  28\n",
       "price_per_unit                    124.661992\n",
       "total_price                      3490.535788\n",
       "month                                     10\n",
       "year                                    2024\n",
       "distance                             1.86532\n",
       "Name: 8, dtype: object"
      ]
     },
     "execution_count": 68,
     "metadata": {},
     "output_type": "execute_result"
    }
   ],
   "source": [
    "target_lat =37.7749\n",
    "target_lon =-122.4194 \n",
    "my_data['distance'] = ((my_data['delivery_lat'] - target_lat)**2 + (my_data['delivery_lon'] - target_lon)**2)**.5\n",
    "my_data.loc[my_data['distance'].idxmin()]"
   ]
  },
  {
   "cell_type": "markdown",
   "metadata": {},
   "source": [
    "Calculate the average delivery time for each warehouse (based on the time difference between the first and last delivery for each warehouse)."
   ]
  },
  {
   "cell_type": "code",
   "execution_count": 93,
   "metadata": {},
   "outputs": [
    {
     "data": {
      "text/html": [
       "<div>\n",
       "<style scoped>\n",
       "    .dataframe tbody tr th:only-of-type {\n",
       "        vertical-align: middle;\n",
       "    }\n",
       "\n",
       "    .dataframe tbody tr th {\n",
       "        vertical-align: top;\n",
       "    }\n",
       "\n",
       "    .dataframe thead th {\n",
       "        text-align: right;\n",
       "    }\n",
       "</style>\n",
       "<table border=\"1\" class=\"dataframe\">\n",
       "  <thead>\n",
       "    <tr style=\"text-align: right;\">\n",
       "      <th></th>\n",
       "      <th>delivery_id</th>\n",
       "      <th>warehouse_id</th>\n",
       "      <th>customer_id</th>\n",
       "      <th>delivery_time</th>\n",
       "      <th>delivery_lat</th>\n",
       "      <th>delivery_lon</th>\n",
       "      <th>quantity</th>\n",
       "      <th>price_per_unit</th>\n",
       "      <th>total_price</th>\n",
       "      <th>month</th>\n",
       "      <th>year</th>\n",
       "      <th>distance</th>\n",
       "      <th>date</th>\n",
       "      <th>time</th>\n",
       "    </tr>\n",
       "  </thead>\n",
       "  <tbody>\n",
       "    <tr>\n",
       "      <th>0</th>\n",
       "      <td>5394</td>\n",
       "      <td>1</td>\n",
       "      <td>28</td>\n",
       "      <td>2024-08-27 11:06:25.984959</td>\n",
       "      <td>40.674887</td>\n",
       "      <td>-105.720556</td>\n",
       "      <td>82</td>\n",
       "      <td>87.208978</td>\n",
       "      <td>7151.136177</td>\n",
       "      <td>8</td>\n",
       "      <td>2024</td>\n",
       "      <td>16.948785</td>\n",
       "      <td>2024-08-27</td>\n",
       "      <td>11:06:25.984959</td>\n",
       "    </tr>\n",
       "    <tr>\n",
       "      <th>1</th>\n",
       "      <td>1480</td>\n",
       "      <td>3</td>\n",
       "      <td>27</td>\n",
       "      <td>2024-11-19 11:06:25.984984</td>\n",
       "      <td>42.356076</td>\n",
       "      <td>-105.445706</td>\n",
       "      <td>46</td>\n",
       "      <td>163.552150</td>\n",
       "      <td>7523.398915</td>\n",
       "      <td>11</td>\n",
       "      <td>2024</td>\n",
       "      <td>17.581054</td>\n",
       "      <td>2024-11-19</td>\n",
       "      <td>11:06:25.984984</td>\n",
       "    </tr>\n",
       "    <tr>\n",
       "      <th>2</th>\n",
       "      <td>5365</td>\n",
       "      <td>4</td>\n",
       "      <td>13</td>\n",
       "      <td>2024-07-07 11:06:25.984989</td>\n",
       "      <td>28.041055</td>\n",
       "      <td>-95.662774</td>\n",
       "      <td>87</td>\n",
       "      <td>253.834508</td>\n",
       "      <td>22083.602194</td>\n",
       "      <td>7</td>\n",
       "      <td>2024</td>\n",
       "      <td>28.472175</td>\n",
       "      <td>2024-07-07</td>\n",
       "      <td>11:06:25.984989</td>\n",
       "    </tr>\n",
       "    <tr>\n",
       "      <th>3</th>\n",
       "      <td>8360</td>\n",
       "      <td>7</td>\n",
       "      <td>7</td>\n",
       "      <td>2024-07-20 11:06:25.984993</td>\n",
       "      <td>31.345729</td>\n",
       "      <td>-76.639498</td>\n",
       "      <td>62</td>\n",
       "      <td>228.153325</td>\n",
       "      <td>14145.506160</td>\n",
       "      <td>7</td>\n",
       "      <td>2024</td>\n",
       "      <td>46.229143</td>\n",
       "      <td>2024-07-20</td>\n",
       "      <td>11:06:25.984993</td>\n",
       "    </tr>\n",
       "    <tr>\n",
       "      <th>4</th>\n",
       "      <td>2323</td>\n",
       "      <td>9</td>\n",
       "      <td>44</td>\n",
       "      <td>2024-06-22 11:06:25.984997</td>\n",
       "      <td>37.464349</td>\n",
       "      <td>-94.080045</td>\n",
       "      <td>50</td>\n",
       "      <td>284.222253</td>\n",
       "      <td>14211.112639</td>\n",
       "      <td>6</td>\n",
       "      <td>2024</td>\n",
       "      <td>28.341056</td>\n",
       "      <td>2024-06-22</td>\n",
       "      <td>11:06:25.984997</td>\n",
       "    </tr>\n",
       "    <tr>\n",
       "      <th>...</th>\n",
       "      <td>...</td>\n",
       "      <td>...</td>\n",
       "      <td>...</td>\n",
       "      <td>...</td>\n",
       "      <td>...</td>\n",
       "      <td>...</td>\n",
       "      <td>...</td>\n",
       "      <td>...</td>\n",
       "      <td>...</td>\n",
       "      <td>...</td>\n",
       "      <td>...</td>\n",
       "      <td>...</td>\n",
       "      <td>...</td>\n",
       "      <td>...</td>\n",
       "    </tr>\n",
       "    <tr>\n",
       "      <th>95</th>\n",
       "      <td>1193</td>\n",
       "      <td>7</td>\n",
       "      <td>49</td>\n",
       "      <td>2024-07-27 11:06:25.985740</td>\n",
       "      <td>41.328348</td>\n",
       "      <td>-88.036301</td>\n",
       "      <td>42</td>\n",
       "      <td>49.291130</td>\n",
       "      <td>2070.227468</td>\n",
       "      <td>7</td>\n",
       "      <td>2024</td>\n",
       "      <td>34.566233</td>\n",
       "      <td>2024-07-27</td>\n",
       "      <td>11:06:25.985740</td>\n",
       "    </tr>\n",
       "    <tr>\n",
       "      <th>96</th>\n",
       "      <td>1251</td>\n",
       "      <td>1</td>\n",
       "      <td>31</td>\n",
       "      <td>2024-06-29 11:06:25.985744</td>\n",
       "      <td>29.382202</td>\n",
       "      <td>-99.961955</td>\n",
       "      <td>91</td>\n",
       "      <td>269.325779</td>\n",
       "      <td>24508.645919</td>\n",
       "      <td>6</td>\n",
       "      <td>2024</td>\n",
       "      <td>23.974449</td>\n",
       "      <td>2024-06-29</td>\n",
       "      <td>11:06:25.985744</td>\n",
       "    </tr>\n",
       "    <tr>\n",
       "      <th>97</th>\n",
       "      <td>9327</td>\n",
       "      <td>10</td>\n",
       "      <td>29</td>\n",
       "      <td>2024-08-31 11:06:25.985747</td>\n",
       "      <td>33.612911</td>\n",
       "      <td>-79.500948</td>\n",
       "      <td>87</td>\n",
       "      <td>188.944171</td>\n",
       "      <td>16438.142852</td>\n",
       "      <td>8</td>\n",
       "      <td>2024</td>\n",
       "      <td>43.119783</td>\n",
       "      <td>2024-08-31</td>\n",
       "      <td>11:06:25.985747</td>\n",
       "    </tr>\n",
       "    <tr>\n",
       "      <th>98</th>\n",
       "      <td>3462</td>\n",
       "      <td>1</td>\n",
       "      <td>25</td>\n",
       "      <td>2024-09-01 11:06:25.985751</td>\n",
       "      <td>37.155596</td>\n",
       "      <td>-113.645924</td>\n",
       "      <td>91</td>\n",
       "      <td>90.352147</td>\n",
       "      <td>8222.045359</td>\n",
       "      <td>9</td>\n",
       "      <td>2024</td>\n",
       "      <td>8.795306</td>\n",
       "      <td>2024-09-01</td>\n",
       "      <td>11:06:25.985751</td>\n",
       "    </tr>\n",
       "    <tr>\n",
       "      <th>99</th>\n",
       "      <td>8259</td>\n",
       "      <td>4</td>\n",
       "      <td>9</td>\n",
       "      <td>2024-06-26 11:06:25.985754</td>\n",
       "      <td>47.591508</td>\n",
       "      <td>-112.570948</td>\n",
       "      <td>93</td>\n",
       "      <td>496.081189</td>\n",
       "      <td>46135.550535</td>\n",
       "      <td>6</td>\n",
       "      <td>2024</td>\n",
       "      <td>13.905316</td>\n",
       "      <td>2024-06-26</td>\n",
       "      <td>11:06:25.985754</td>\n",
       "    </tr>\n",
       "  </tbody>\n",
       "</table>\n",
       "<p>100 rows × 14 columns</p>\n",
       "</div>"
      ],
      "text/plain": [
       "    delivery_id  warehouse_id  customer_id              delivery_time  \\\n",
       "0          5394             1           28 2024-08-27 11:06:25.984959   \n",
       "1          1480             3           27 2024-11-19 11:06:25.984984   \n",
       "2          5365             4           13 2024-07-07 11:06:25.984989   \n",
       "3          8360             7            7 2024-07-20 11:06:25.984993   \n",
       "4          2323             9           44 2024-06-22 11:06:25.984997   \n",
       "..          ...           ...          ...                        ...   \n",
       "95         1193             7           49 2024-07-27 11:06:25.985740   \n",
       "96         1251             1           31 2024-06-29 11:06:25.985744   \n",
       "97         9327            10           29 2024-08-31 11:06:25.985747   \n",
       "98         3462             1           25 2024-09-01 11:06:25.985751   \n",
       "99         8259             4            9 2024-06-26 11:06:25.985754   \n",
       "\n",
       "    delivery_lat  delivery_lon  quantity  price_per_unit   total_price  month  \\\n",
       "0      40.674887   -105.720556        82       87.208978   7151.136177      8   \n",
       "1      42.356076   -105.445706        46      163.552150   7523.398915     11   \n",
       "2      28.041055    -95.662774        87      253.834508  22083.602194      7   \n",
       "3      31.345729    -76.639498        62      228.153325  14145.506160      7   \n",
       "4      37.464349    -94.080045        50      284.222253  14211.112639      6   \n",
       "..           ...           ...       ...             ...           ...    ...   \n",
       "95     41.328348    -88.036301        42       49.291130   2070.227468      7   \n",
       "96     29.382202    -99.961955        91      269.325779  24508.645919      6   \n",
       "97     33.612911    -79.500948        87      188.944171  16438.142852      8   \n",
       "98     37.155596   -113.645924        91       90.352147   8222.045359      9   \n",
       "99     47.591508   -112.570948        93      496.081189  46135.550535      6   \n",
       "\n",
       "    year   distance        date             time  \n",
       "0   2024  16.948785  2024-08-27  11:06:25.984959  \n",
       "1   2024  17.581054  2024-11-19  11:06:25.984984  \n",
       "2   2024  28.472175  2024-07-07  11:06:25.984989  \n",
       "3   2024  46.229143  2024-07-20  11:06:25.984993  \n",
       "4   2024  28.341056  2024-06-22  11:06:25.984997  \n",
       "..   ...        ...         ...              ...  \n",
       "95  2024  34.566233  2024-07-27  11:06:25.985740  \n",
       "96  2024  23.974449  2024-06-29  11:06:25.985744  \n",
       "97  2024  43.119783  2024-08-31  11:06:25.985747  \n",
       "98  2024   8.795306  2024-09-01  11:06:25.985751  \n",
       "99  2024  13.905316  2024-06-26  11:06:25.985754  \n",
       "\n",
       "[100 rows x 14 columns]"
      ]
     },
     "execution_count": 93,
     "metadata": {},
     "output_type": "execute_result"
    }
   ],
   "source": [
    "my_data['date'] = my_data['delivery_time'].dt.date\n",
    "my_data['time'] = my_data['delivery_time'].dt.time\n",
    "my_data"
   ]
  },
  {
   "cell_type": "code",
   "execution_count": 100,
   "metadata": {},
   "outputs": [
    {
     "data": {
      "text/html": [
       "<div>\n",
       "<style scoped>\n",
       "    .dataframe tbody tr th:only-of-type {\n",
       "        vertical-align: middle;\n",
       "    }\n",
       "\n",
       "    .dataframe tbody tr th {\n",
       "        vertical-align: top;\n",
       "    }\n",
       "\n",
       "    .dataframe thead th {\n",
       "        text-align: right;\n",
       "    }\n",
       "</style>\n",
       "<table border=\"1\" class=\"dataframe\">\n",
       "  <thead>\n",
       "    <tr style=\"text-align: right;\">\n",
       "      <th></th>\n",
       "      <th>warehouse_id</th>\n",
       "      <th>date</th>\n",
       "      <th>first</th>\n",
       "      <th>last</th>\n",
       "      <th>time_difference</th>\n",
       "    </tr>\n",
       "  </thead>\n",
       "  <tbody>\n",
       "    <tr>\n",
       "      <th>0</th>\n",
       "      <td>1</td>\n",
       "      <td>2024-06-29</td>\n",
       "      <td>2024-06-29 11:06:25.985744</td>\n",
       "      <td>2024-06-29 11:06:25.985744</td>\n",
       "      <td>0.0</td>\n",
       "    </tr>\n",
       "    <tr>\n",
       "      <th>1</th>\n",
       "      <td>1</td>\n",
       "      <td>2024-06-30</td>\n",
       "      <td>2024-06-30 11:06:25.985119</td>\n",
       "      <td>2024-06-30 11:06:25.985119</td>\n",
       "      <td>0.0</td>\n",
       "    </tr>\n",
       "    <tr>\n",
       "      <th>2</th>\n",
       "      <td>1</td>\n",
       "      <td>2024-07-05</td>\n",
       "      <td>2024-07-05 11:06:25.985139</td>\n",
       "      <td>2024-07-05 11:06:25.985139</td>\n",
       "      <td>0.0</td>\n",
       "    </tr>\n",
       "    <tr>\n",
       "      <th>3</th>\n",
       "      <td>1</td>\n",
       "      <td>2024-07-16</td>\n",
       "      <td>2024-07-16 11:06:25.985717</td>\n",
       "      <td>2024-07-16 11:06:25.985717</td>\n",
       "      <td>0.0</td>\n",
       "    </tr>\n",
       "    <tr>\n",
       "      <th>4</th>\n",
       "      <td>1</td>\n",
       "      <td>2024-07-19</td>\n",
       "      <td>2024-07-19 11:06:25.985707</td>\n",
       "      <td>2024-07-19 11:06:25.985707</td>\n",
       "      <td>0.0</td>\n",
       "    </tr>\n",
       "    <tr>\n",
       "      <th>...</th>\n",
       "      <td>...</td>\n",
       "      <td>...</td>\n",
       "      <td>...</td>\n",
       "      <td>...</td>\n",
       "      <td>...</td>\n",
       "    </tr>\n",
       "    <tr>\n",
       "      <th>93</th>\n",
       "      <td>10</td>\n",
       "      <td>2024-09-02</td>\n",
       "      <td>2024-09-02 11:06:25.985596</td>\n",
       "      <td>2024-09-02 11:06:25.985596</td>\n",
       "      <td>0.0</td>\n",
       "    </tr>\n",
       "    <tr>\n",
       "      <th>94</th>\n",
       "      <td>10</td>\n",
       "      <td>2024-09-20</td>\n",
       "      <td>2024-09-20 11:06:25.985080</td>\n",
       "      <td>2024-09-20 11:06:25.985080</td>\n",
       "      <td>0.0</td>\n",
       "    </tr>\n",
       "    <tr>\n",
       "      <th>95</th>\n",
       "      <td>10</td>\n",
       "      <td>2024-09-27</td>\n",
       "      <td>2024-09-27 11:06:25.985091</td>\n",
       "      <td>2024-09-27 11:06:25.985091</td>\n",
       "      <td>0.0</td>\n",
       "    </tr>\n",
       "    <tr>\n",
       "      <th>96</th>\n",
       "      <td>10</td>\n",
       "      <td>2024-10-30</td>\n",
       "      <td>2024-10-30 11:06:25.985681</td>\n",
       "      <td>2024-10-30 11:06:25.985681</td>\n",
       "      <td>0.0</td>\n",
       "    </tr>\n",
       "    <tr>\n",
       "      <th>97</th>\n",
       "      <td>10</td>\n",
       "      <td>2024-11-19</td>\n",
       "      <td>2024-11-19 11:06:25.985699</td>\n",
       "      <td>2024-11-19 11:06:25.985699</td>\n",
       "      <td>0.0</td>\n",
       "    </tr>\n",
       "  </tbody>\n",
       "</table>\n",
       "<p>98 rows × 5 columns</p>\n",
       "</div>"
      ],
      "text/plain": [
       "    warehouse_id        date                      first  \\\n",
       "0              1  2024-06-29 2024-06-29 11:06:25.985744   \n",
       "1              1  2024-06-30 2024-06-30 11:06:25.985119   \n",
       "2              1  2024-07-05 2024-07-05 11:06:25.985139   \n",
       "3              1  2024-07-16 2024-07-16 11:06:25.985717   \n",
       "4              1  2024-07-19 2024-07-19 11:06:25.985707   \n",
       "..           ...         ...                        ...   \n",
       "93            10  2024-09-02 2024-09-02 11:06:25.985596   \n",
       "94            10  2024-09-20 2024-09-20 11:06:25.985080   \n",
       "95            10  2024-09-27 2024-09-27 11:06:25.985091   \n",
       "96            10  2024-10-30 2024-10-30 11:06:25.985681   \n",
       "97            10  2024-11-19 2024-11-19 11:06:25.985699   \n",
       "\n",
       "                         last  time_difference  \n",
       "0  2024-06-29 11:06:25.985744              0.0  \n",
       "1  2024-06-30 11:06:25.985119              0.0  \n",
       "2  2024-07-05 11:06:25.985139              0.0  \n",
       "3  2024-07-16 11:06:25.985717              0.0  \n",
       "4  2024-07-19 11:06:25.985707              0.0  \n",
       "..                        ...              ...  \n",
       "93 2024-09-02 11:06:25.985596              0.0  \n",
       "94 2024-09-20 11:06:25.985080              0.0  \n",
       "95 2024-09-27 11:06:25.985091              0.0  \n",
       "96 2024-10-30 11:06:25.985681              0.0  \n",
       "97 2024-11-19 11:06:25.985699              0.0  \n",
       "\n",
       "[98 rows x 5 columns]"
      ]
     },
     "execution_count": 100,
     "metadata": {},
     "output_type": "execute_result"
    }
   ],
   "source": [
    "grouped = my_data.groupby(['warehouse_id','date' ]).agg(first = ('delivery_time','min'), last = ('delivery_time','max'))\n",
    "grouped = grouped.reset_index()\n",
    "grouped['time_difference'] = (grouped['last'] - grouped['first']).dt.total_seconds() / 60\n",
    "grouped"
   ]
  },
  {
   "cell_type": "code",
   "execution_count": 102,
   "metadata": {},
   "outputs": [],
   "source": [
    "data = [\n",
    "    {\"delivery_id\": 1, \"warehouse_id\": 101, \"start_time\": \"2024-06-01 08:00:00\", \"end_time\": \"2024-06-01 15:30:00\", \"delivery_lat\": 40.7128, \"delivery_lon\": -74.0060},\n",
    "    {\"delivery_id\": 2, \"warehouse_id\": 101, \"start_time\": \"2024-06-01 09:00:00\", \"end_time\": \"2024-06-01 12:15:00\", \"delivery_lat\": 40.7306, \"delivery_lon\": -73.9352},\n",
    "    {\"delivery_id\": 3, \"warehouse_id\": 102, \"start_time\": \"2024-06-01 10:00:00\", \"end_time\": \"2024-06-01 18:00:00\", \"delivery_lat\": 40.6643, \"delivery_lon\": -73.9385},\n",
    "    {\"delivery_id\": 4, \"warehouse_id\": 102, \"start_time\": \"2024-06-02 11:00:00\", \"end_time\": \"2024-06-02 16:30:00\", \"delivery_lat\": 40.7850, \"delivery_lon\": -73.8440}\n",
    "]\n"
   ]
  },
  {
   "cell_type": "code",
   "execution_count": 112,
   "metadata": {},
   "outputs": [
    {
     "name": "stdout",
     "output_type": "stream",
     "text": [
      "   warehouse_id     distance\n",
      "0           101  1640.705383\n",
      "1           102  1085.149689\n",
      "         date  delivery_id\n",
      "0  2024-06-01            3\n",
      "1  2024-06-02            1\n"
     ]
    }
   ],
   "source": [
    "df = pd.DataFrame(data)\n",
    "df['start_time'] = pd.to_datetime(df['start_time'])\n",
    "df['end_time'] = pd.to_datetime(df['end_time'])\n",
    "df['duration'] = (df['end_time'] - df['start_time']).dt.total_seconds()/3600\n",
    "from geopy.distance import geodesic\n",
    "target_location = (40.7128,  -74.0060) #New York City\n",
    "df['distance'] = my_data.apply(lambda row: geodesic((row['delivery_lat'], row['delivery_lon']), target_location).miles, axis=1)\n",
    "grouped_wh = df.groupby('warehouse_id')['distance'].mean()\n",
    "grouped_wh = grouped_wh.reset_index()\n",
    "print(grouped_wh)\n",
    "\n",
    "df['date'] = df['start_time'].dt.date\n",
    "grouped_day = df.groupby('date')['delivery_id'].nunique()\n",
    "grouped_day = grouped_day.reset_index()\n",
    "print(grouped_day)\n"
   ]
  },
  {
   "cell_type": "code",
   "execution_count": null,
   "metadata": {},
   "outputs": [],
   "source": []
  },
  {
   "cell_type": "code",
   "execution_count": 114,
   "metadata": {},
   "outputs": [],
   "source": [
    "data = [\n",
    "    {\n",
    "        \"delivery_id\": 1,\n",
    "        \"warehouse_id\": 101,\n",
    "        \"delivery_date\": \"2024-05-15\",\n",
    "        \"description\": \"Electronics, Furniture, Clothing\",\n",
    "        \"feedback\": \"Delivery was on time, but some items were damaged\",\n",
    "        \"rating\": 4.5\n",
    "    },\n",
    "    {\n",
    "        \"delivery_id\": 2,\n",
    "        \"warehouse_id\": 101,\n",
    "        \"delivery_date\": \"2024-05-22\",\n",
    "        \"description\": \"Clothing, Accessories\",\n",
    "        \"feedback\": \"Delayed delivery, but items were intact\",\n",
    "        \"rating\": 3.0\n",
    "    },\n",
    "    {\n",
    "        \"delivery_id\": 3,\n",
    "        \"warehouse_id\": 102,\n",
    "        \"delivery_date\": \"2024-06-01\",\n",
    "        \"description\": \"Furniture, Appliances\",\n",
    "        \"feedback\": \"Delivery was significantly delayed\",\n",
    "        \"rating\": 2.5\n",
    "    },\n",
    "    {\n",
    "        \"delivery_id\": 4,\n",
    "        \"warehouse_id\": 103,\n",
    "        \"delivery_date\": \"2024-06-10\",\n",
    "        \"description\": \"Books, Electronics, Clothing\",\n",
    "        \"feedback\": \"On-time delivery with no issues\",\n",
    "        \"rating\": 5.0\n",
    "    },\n",
    "    {\n",
    "        \"delivery_id\": 5,\n",
    "        \"warehouse_id\": 103,\n",
    "        \"delivery_date\": \"2024-06-20\",\n",
    "        \"description\": \"Furniture, Books\",\n",
    "        \"feedback\": \"Slight delay in delivery but good service overall\",\n",
    "        \"rating\": 4.0\n",
    "    }\n",
    "]\n"
   ]
  },
  {
   "cell_type": "code",
   "execution_count": 138,
   "metadata": {},
   "outputs": [],
   "source": [
    "from collections import Counter"
   ]
  },
  {
   "cell_type": "code",
   "execution_count": null,
   "metadata": {},
   "outputs": [
    {
     "ename": "AttributeError",
     "evalue": "'dict' object has no attribute 'sort_values'",
     "output_type": "error",
     "traceback": [
      "\u001b[0;31m---------------------------------------------------------------------------\u001b[0m",
      "\u001b[0;31mAttributeError\u001b[0m                            Traceback (most recent call last)",
      "Cell \u001b[0;32mIn[141], line 4\u001b[0m\n\u001b[1;32m      2\u001b[0m df[\u001b[38;5;124m'\u001b[39m\u001b[38;5;124mcategories\u001b[39m\u001b[38;5;124m'\u001b[39m] \u001b[38;5;241m=\u001b[39m df[\u001b[38;5;124m'\u001b[39m\u001b[38;5;124mdescription\u001b[39m\u001b[38;5;124m'\u001b[39m]\u001b[38;5;241m.\u001b[39mstr\u001b[38;5;241m.\u001b[39msplit(\u001b[38;5;124m\"\u001b[39m\u001b[38;5;124m, \u001b[39m\u001b[38;5;124m\"\u001b[39m)\n\u001b[1;32m      3\u001b[0m all_categories \u001b[38;5;241m=\u001b[39m \u001b[38;5;124m\"\u001b[39m\u001b[38;5;124m, \u001b[39m\u001b[38;5;124m\"\u001b[39m\u001b[38;5;241m.\u001b[39mjoin(df[\u001b[38;5;124m'\u001b[39m\u001b[38;5;124mdescription\u001b[39m\u001b[38;5;124m'\u001b[39m])\u001b[38;5;241m.\u001b[39msplit(\u001b[38;5;124m\"\u001b[39m\u001b[38;5;124m, \u001b[39m\u001b[38;5;124m\"\u001b[39m)\n\u001b[0;32m----> 4\u001b[0m \u001b[38;5;28;43mdict\u001b[39;49m\u001b[43m(\u001b[49m\u001b[43mCounter\u001b[49m\u001b[43m(\u001b[49m\u001b[43mall_categories\u001b[49m\u001b[43m)\u001b[49m\u001b[43m)\u001b[49m\u001b[38;5;241;43m.\u001b[39;49m\u001b[43msort_values\u001b[49m\n",
      "\u001b[0;31mAttributeError\u001b[0m: 'dict' object has no attribute 'sort_values'"
     ]
    }
   ],
   "source": [
    "df = pd.DataFrame(data)\n",
    "df['categories'] = df['description'].str.split(\", \")\n",
    "all_categories = \", \".join(df['description']).split(\", \")\n",
    "dict(Counter(all_categories)\n"
   ]
  },
  {
   "cell_type": "code",
   "execution_count": 146,
   "metadata": {},
   "outputs": [
    {
     "data": {
      "text/html": [
       "<div>\n",
       "<style scoped>\n",
       "    .dataframe tbody tr th:only-of-type {\n",
       "        vertical-align: middle;\n",
       "    }\n",
       "\n",
       "    .dataframe tbody tr th {\n",
       "        vertical-align: top;\n",
       "    }\n",
       "\n",
       "    .dataframe thead th {\n",
       "        text-align: right;\n",
       "    }\n",
       "</style>\n",
       "<table border=\"1\" class=\"dataframe\">\n",
       "  <thead>\n",
       "    <tr style=\"text-align: right;\">\n",
       "      <th></th>\n",
       "      <th>year_month</th>\n",
       "      <th>avg_rating</th>\n",
       "    </tr>\n",
       "  </thead>\n",
       "  <tbody>\n",
       "    <tr>\n",
       "      <th>0</th>\n",
       "      <td>202405</td>\n",
       "      <td>3.750000</td>\n",
       "    </tr>\n",
       "    <tr>\n",
       "      <th>1</th>\n",
       "      <td>202406</td>\n",
       "      <td>3.833333</td>\n",
       "    </tr>\n",
       "  </tbody>\n",
       "</table>\n",
       "</div>"
      ],
      "text/plain": [
       "   year_month  avg_rating\n",
       "0      202405    3.750000\n",
       "1      202406    3.833333"
      ]
     },
     "execution_count": 146,
     "metadata": {},
     "output_type": "execute_result"
    }
   ],
   "source": [
    "df['delivery_date'] = pd.to_datetime(df['delivery_date'])\n",
    "df['year_month'] = 100*df['delivery_date'].dt.year + df['delivery_date'].dt.month\n",
    "grouped = df.groupby('year_month').agg(avg_rating = (\"rating\", \"mean\"))\n",
    "grouped = grouped.reset_index()\n",
    "grouped.sort_values(\"year_month\")"
   ]
  },
  {
   "cell_type": "code",
   "execution_count": 155,
   "metadata": {},
   "outputs": [
    {
     "data": {
      "text/html": [
       "<div>\n",
       "<style scoped>\n",
       "    .dataframe tbody tr th:only-of-type {\n",
       "        vertical-align: middle;\n",
       "    }\n",
       "\n",
       "    .dataframe tbody tr th {\n",
       "        vertical-align: top;\n",
       "    }\n",
       "\n",
       "    .dataframe thead th {\n",
       "        text-align: right;\n",
       "    }\n",
       "</style>\n",
       "<table border=\"1\" class=\"dataframe\">\n",
       "  <thead>\n",
       "    <tr style=\"text-align: right;\">\n",
       "      <th></th>\n",
       "      <th>warehouse_id</th>\n",
       "      <th>delayed</th>\n",
       "    </tr>\n",
       "  </thead>\n",
       "  <tbody>\n",
       "    <tr>\n",
       "      <th>0</th>\n",
       "      <td>101</td>\n",
       "      <td>1</td>\n",
       "    </tr>\n",
       "    <tr>\n",
       "      <th>1</th>\n",
       "      <td>102</td>\n",
       "      <td>1</td>\n",
       "    </tr>\n",
       "    <tr>\n",
       "      <th>2</th>\n",
       "      <td>103</td>\n",
       "      <td>1</td>\n",
       "    </tr>\n",
       "  </tbody>\n",
       "</table>\n",
       "</div>"
      ],
      "text/plain": [
       "   warehouse_id  delayed\n",
       "0           101        1\n",
       "1           102        1\n",
       "2           103        1"
      ]
     },
     "execution_count": 155,
     "metadata": {},
     "output_type": "execute_result"
    }
   ],
   "source": [
    "filtered = df[df['feedback'].str.lower().str.contains('delay')]\n",
    "grouped = filtered.groupby('warehouse_id').agg(delayed = (\"delivery_id\", \"count\"))\n",
    "grouped = grouped.reset_index()\n",
    "grouped"
   ]
  },
  {
   "cell_type": "code",
   "execution_count": 3,
   "metadata": {},
   "outputs": [],
   "source": [
    "my_json = [\n",
    "  {\n",
    "    \"driver_id\": 1,\n",
    "    \"driver_name\": \"Alice\",\n",
    "    \"start_time\": \"2024-07-01 08:00:00\",\n",
    "    \"end_time\": \"2024-07-01 08:30:00\",\n",
    "    \"pickup_lat\": 40.73061,\n",
    "    \"pickup_lon\": -73.935242,\n",
    "    \"dropoff_lat\": 40.712776,\n",
    "    \"dropoff_lon\": -74.005974,\n",
    "    \"price\": 50,\n",
    "    \"rating\": 4.5,\n",
    "    \"feedback\": \"Great service, very polite and quick.\"\n",
    "  },\n",
    "  {\n",
    "    \"driver_id\": 2,\n",
    "    \"driver_name\": \"Bob\",\n",
    "    \"start_time\": \"2024-07-01 09:00:00\",\n",
    "    \"end_time\": \"2024-07-01 10:00:00\",\n",
    "    \"pickup_lat\": 40.73061,\n",
    "    \"pickup_lon\": -73.935242,\n",
    "    \"dropoff_lat\": 40.741895,\n",
    "    \"dropoff_lon\": -73.989308,\n",
    "    \"price\": 40,\n",
    "    \"rating\": 3.8,\n",
    "    \"feedback\": \"Slow delivery, but polite.\"\n",
    "  },\n",
    "  {\n",
    "    \"driver_id\": 1,\n",
    "    \"driver_name\": \"Alice\",\n",
    "    \"start_time\": \"2024-07-02 08:15:00\",\n",
    "    \"end_time\": \"2024-07-02 08:35:00\",\n",
    "    \"pickup_lat\": 40.741895,\n",
    "    \"pickup_lon\": -73.989308,\n",
    "    \"dropoff_lat\": 40.73061,\n",
    "    \"dropoff_lon\": -73.935242,\n",
    "    \"price\": 60,\n",
    "    \"rating\": 4.7,\n",
    "    \"feedback\": \"Quick and efficient delivery!\"\n",
    "  },\n",
    "  {\n",
    "    \"driver_id\": 3,\n",
    "    \"driver_name\": \"Charlie\",\n",
    "    \"start_time\": \"2024-07-01 10:30:00\",\n",
    "    \"end_time\": \"2024-07-01 11:15:00\",\n",
    "    \"pickup_lat\": 40.73061,\n",
    "    \"pickup_lon\": -73.935242,\n",
    "    \"dropoff_lat\": 40.712776,\n",
    "    \"dropoff_lon\": -74.005974,\n",
    "    \"price\": 70,\n",
    "    \"rating\": 4.9,\n",
    "    \"feedback\": \"Excellent driver, very professional!\"\n",
    "  }\n",
    "]\n"
   ]
  },
  {
   "cell_type": "code",
   "execution_count": null,
   "metadata": {},
   "outputs": [
    {
     "data": {
      "text/html": [
       "<div>\n",
       "<style scoped>\n",
       "    .dataframe tbody tr th:only-of-type {\n",
       "        vertical-align: middle;\n",
       "    }\n",
       "\n",
       "    .dataframe tbody tr th {\n",
       "        vertical-align: top;\n",
       "    }\n",
       "\n",
       "    .dataframe thead th {\n",
       "        text-align: right;\n",
       "    }\n",
       "</style>\n",
       "<table border=\"1\" class=\"dataframe\">\n",
       "  <thead>\n",
       "    <tr style=\"text-align: right;\">\n",
       "      <th></th>\n",
       "      <th></th>\n",
       "      <th>average_delivery_time</th>\n",
       "    </tr>\n",
       "    <tr>\n",
       "      <th>driver_id</th>\n",
       "      <th>driver_name</th>\n",
       "      <th></th>\n",
       "    </tr>\n",
       "  </thead>\n",
       "  <tbody>\n",
       "    <tr>\n",
       "      <th>1</th>\n",
       "      <th>Alice</th>\n",
       "      <td>25.0</td>\n",
       "    </tr>\n",
       "    <tr>\n",
       "      <th>3</th>\n",
       "      <th>Charlie</th>\n",
       "      <td>45.0</td>\n",
       "    </tr>\n",
       "    <tr>\n",
       "      <th>2</th>\n",
       "      <th>Bob</th>\n",
       "      <td>60.0</td>\n",
       "    </tr>\n",
       "  </tbody>\n",
       "</table>\n",
       "</div>"
      ],
      "text/plain": [
       "                       average_delivery_time\n",
       "driver_id driver_name                       \n",
       "1         Alice                         25.0\n",
       "3         Charlie                       45.0\n",
       "2         Bob                           60.0"
      ]
     },
     "execution_count": 8,
     "metadata": {},
     "output_type": "execute_result"
    }
   ],
   "source": [
    "df = pd.DataFrame(my_json)\n",
    "df['delivery_time'] = (pd.to_datetime(df['end_time']) - pd.to_datetime(df['start_time'])).dt.total_seconds()/60\n",
    "grouped = df.groupby(['driver_id','driver_name']).agg(average_delivery_time = ('delivery_time','mean'))\n",
    "grouped = grouped.reset_index()\n",
    "grouped.sort_values('average_delivery_time')\n"
   ]
  },
  {
   "cell_type": "code",
   "execution_count": 33,
   "metadata": {},
   "outputs": [
    {
     "data": {
      "text/plain": [
       "[('very', 2),\n",
       " ('polite', 2),\n",
       " ('quick', 2),\n",
       " ('delivery', 2),\n",
       " ('great', 1),\n",
       " ('service', 1),\n",
       " ('slow', 1),\n",
       " ('but', 1),\n",
       " ('efficient', 1),\n",
       " ('excellent', 1),\n",
       " ('driver', 1),\n",
       " ('professional', 1)]"
      ]
     },
     "execution_count": 33,
     "metadata": {},
     "output_type": "execute_result"
    }
   ],
   "source": [
    "import string\n",
    "from collections import Counter\n",
    "df['word_list'] = df['feedback'].str.replace(f\"[{string.punctuation}]\", \"\", regex=True).str.replace('the','').str.replace('and','').str.lower().str.split()\n",
    "all_words = [word for sublist in df['word_list'] for word in sublist]\n",
    "Counter(all_words).most_common()"
   ]
  },
  {
   "cell_type": "code",
   "execution_count": 32,
   "metadata": {},
   "outputs": [
    {
     "data": {
      "text/html": [
       "<div>\n",
       "<style scoped>\n",
       "    .dataframe tbody tr th:only-of-type {\n",
       "        vertical-align: middle;\n",
       "    }\n",
       "\n",
       "    .dataframe tbody tr th {\n",
       "        vertical-align: top;\n",
       "    }\n",
       "\n",
       "    .dataframe thead th {\n",
       "        text-align: right;\n",
       "    }\n",
       "</style>\n",
       "<table border=\"1\" class=\"dataframe\">\n",
       "  <thead>\n",
       "    <tr style=\"text-align: right;\">\n",
       "      <th></th>\n",
       "      <th>driver_id</th>\n",
       "      <th>driver_name</th>\n",
       "      <th>total_revenue</th>\n",
       "    </tr>\n",
       "  </thead>\n",
       "  <tbody>\n",
       "    <tr>\n",
       "      <th>0</th>\n",
       "      <td>1</td>\n",
       "      <td>Alice</td>\n",
       "      <td>110</td>\n",
       "    </tr>\n",
       "    <tr>\n",
       "      <th>2</th>\n",
       "      <td>3</td>\n",
       "      <td>Charlie</td>\n",
       "      <td>70</td>\n",
       "    </tr>\n",
       "    <tr>\n",
       "      <th>1</th>\n",
       "      <td>2</td>\n",
       "      <td>Bob</td>\n",
       "      <td>40</td>\n",
       "    </tr>\n",
       "  </tbody>\n",
       "</table>\n",
       "</div>"
      ],
      "text/plain": [
       "   driver_id driver_name  total_revenue\n",
       "0          1       Alice            110\n",
       "2          3     Charlie             70\n",
       "1          2         Bob             40"
      ]
     },
     "execution_count": 32,
     "metadata": {},
     "output_type": "execute_result"
    }
   ],
   "source": [
    "df = pd.DataFrame(my_json)\n",
    "filtered = df[pd.to_datetime(df['end_time']).dt.to_period('M') == '2024-07']\n",
    "grouped = filtered.groupby(['driver_id','driver_name']).agg(total_revenue = ('price','sum'))\n",
    "grouped = grouped.reset_index()\n",
    "grouped.sort_values('total_revenue', ascending= False)"
   ]
  },
  {
   "cell_type": "code",
   "execution_count": 25,
   "metadata": {},
   "outputs": [
    {
     "data": {
      "text/html": [
       "<div>\n",
       "<style scoped>\n",
       "    .dataframe tbody tr th:only-of-type {\n",
       "        vertical-align: middle;\n",
       "    }\n",
       "\n",
       "    .dataframe tbody tr th {\n",
       "        vertical-align: top;\n",
       "    }\n",
       "\n",
       "    .dataframe thead th {\n",
       "        text-align: right;\n",
       "    }\n",
       "</style>\n",
       "<table border=\"1\" class=\"dataframe\">\n",
       "  <thead>\n",
       "    <tr style=\"text-align: right;\">\n",
       "      <th></th>\n",
       "      <th>driver_id</th>\n",
       "      <th>driver_name</th>\n",
       "      <th>average_delivery_time</th>\n",
       "      <th>average_rating</th>\n",
       "    </tr>\n",
       "  </thead>\n",
       "  <tbody>\n",
       "    <tr>\n",
       "      <th>1</th>\n",
       "      <td>2</td>\n",
       "      <td>Bob</td>\n",
       "      <td>60.0</td>\n",
       "      <td>3.8</td>\n",
       "    </tr>\n",
       "    <tr>\n",
       "      <th>0</th>\n",
       "      <td>1</td>\n",
       "      <td>Alice</td>\n",
       "      <td>25.0</td>\n",
       "      <td>4.6</td>\n",
       "    </tr>\n",
       "    <tr>\n",
       "      <th>2</th>\n",
       "      <td>3</td>\n",
       "      <td>Charlie</td>\n",
       "      <td>45.0</td>\n",
       "      <td>4.9</td>\n",
       "    </tr>\n",
       "  </tbody>\n",
       "</table>\n",
       "</div>"
      ],
      "text/plain": [
       "   driver_id driver_name  average_delivery_time  average_rating\n",
       "1          2         Bob                   60.0             3.8\n",
       "0          1       Alice                   25.0             4.6\n",
       "2          3     Charlie                   45.0             4.9"
      ]
     },
     "execution_count": 25,
     "metadata": {},
     "output_type": "execute_result"
    }
   ],
   "source": [
    "df = pd.DataFrame(my_json)\n",
    "df['delivery_time'] = (pd.to_datetime(df['end_time']) - pd.to_datetime(df['start_time'])).dt.total_seconds()/60\n",
    "grouped = df.groupby(['driver_id','driver_name']).agg(average_delivery_time = ('delivery_time','mean'), average_rating = ('rating','mean'))\n",
    "grouped = grouped.reset_index()\n",
    "grouped.sort_values('average_rating')\n"
   ]
  },
  {
   "cell_type": "code",
   "execution_count": 34,
   "metadata": {},
   "outputs": [
    {
     "data": {
      "image/png": "[encoded data removed]",
      "text/plain": [
       "<Figure size 640x480 with 1 Axes>"
      ]
     },
     "metadata": {},
     "output_type": "display_data"
    }
   ],
   "source": [
    "import pandas as pd\n",
    "import matplotlib.pyplot as plt\n",
    "\n",
    "# Example data\n",
    "data = {\n",
    "    'month': ['Jan', 'Jan', 'Feb', 'Feb', 'Mar', 'Mar'],\n",
    "    'salesperson': ['Alice', 'Bob', 'Alice', 'Bob', 'Alice', 'Bob'],\n",
    "    'sales': [200, 150, 250, 300, 400, 350]\n",
    "}\n",
    "\n",
    "# Create DataFrame\n",
    "df = pd.DataFrame(data)\n",
    "\n",
    "# Group by salesperson and sum sales\n",
    "grouped = df.groupby('salesperson')['sales'].sum().reset_index()\n",
    "\n",
    "# Plot total sales per salesperson\n",
    "plt.bar(grouped['salesperson'], grouped['sales'], color=['skyblue', 'orange'])\n",
    "plt.xlabel('Salesperson')\n",
    "plt.ylabel('Total Sales')\n",
    "plt.title('Total Sales per Salesperson')\n",
    "plt.show()\n"
   ]
  }
 ],
 "metadata": {
  "kernelspec": {
   "display_name": "base",
   "language": "python",
   "name": "python3"
  },
  "language_info": {
   "codemirror_mode": {
    "name": "ipython",
    "version": 3
   },
   "file_extension": ".py",
   "mimetype": "text/x-python",
   "name": "python",
   "nbconvert_exporter": "python",
   "pygments_lexer": "ipython3",
   "version": "3.10.9"
  }
 },
 "nbformat": 4,
 "nbformat_minor": 2
}
