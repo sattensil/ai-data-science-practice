{
 "cells": [
  {
   "cell_type": "code",
   "execution_count": 1,
   "id": "dd617faf",
   "metadata": {},
   "outputs": [],
   "source": [
    "# Import dependencies\n",
    "import torch \n",
    "from PIL import Image\n",
    "from torch import nn, save, load\n",
    "from torch.optim import Adam\n",
    "from torch.utils.data import DataLoader\n",
    "from torchvision import datasets\n",
    "from torchvision.transforms import ToTensor"
   ]
  },
  {
   "cell_type": "code",
   "execution_count": 2,
   "id": "980cb2e6",
   "metadata": {},
   "outputs": [],
   "source": [
    "# Get data \n",
    "train = datasets.MNIST(root=\"data\", download=True, train=True, transform=ToTensor())\n",
    "dataset = DataLoader(train, 32)\n",
    "#1,28,28 - classes 0-9"
   ]
  },
  {
   "cell_type": "code",
   "execution_count": 3,
   "id": "223ad6c6",
   "metadata": {},
   "outputs": [],
   "source": [
    "# Image Classifier Neural Network\n",
    "class ImageClassifier(nn.Module): \n",
    "    def __init__(self):\n",
    "        super().__init__()\n",
    "        self.model = nn.Sequential(\n",
    "            nn.Conv2d(1, 32, (3,3)), \n",
    "            nn.ReLU(),\n",
    "            nn.Conv2d(32, 64, (3,3)), \n",
    "            nn.ReLU(),\n",
    "            nn.Conv2d(64, 64, (3,3)), \n",
    "            nn.ReLU(),\n",
    "            nn.Flatten(), \n",
    "            nn.Linear(64*(28-6)*(28-6), 10)  \n",
    "        )\n",
    "\n",
    "    def forward(self, x): \n",
    "        return self.model(x)"
   ]
  },
  {
   "cell_type": "code",
   "execution_count": 4,
   "id": "7cef3ffa",
   "metadata": {},
   "outputs": [
    {
     "name": "stdout",
     "output_type": "stream",
     "text": [
      "Collecting package metadata (current_repodata.json): done\n",
      "Solving environment: failed with initial frozen solve. Retrying with flexible solve.\n",
      "Solving environment: failed with repodata from current_repodata.json, will retry with next repodata source.\n",
      "Collecting package metadata (repodata.json): done\n",
      "Solving environment: failed with initial frozen solve. Retrying with flexible solve.\n",
      "Solving environment: / \n",
      "Found conflicts! Looking for incompatible packages.\n",
      "This can take several minutes.  Press CTRL-C to abort.\n",
      "                                                                               failed\n",
      "\n",
      "UnsatisfiableError: \n",
      "\n",
      "\n",
      "Note: you may need to restart the kernel to use updated packages.\n"
     ]
    }
   ],
   "source": [
    "conda install -c pytorch pytorch-cuda"
   ]
  },
  {
   "cell_type": "code",
   "execution_count": 6,
   "id": "0e72ef96",
   "metadata": {},
   "outputs": [],
   "source": [
    "# Instance of the neural network, loss, optimizer \n",
    "clf = ImageClassifier().to('cpu')\n",
    "opt = Adam(clf.parameters(), lr=1e-3)\n",
    "loss_fn = nn.CrossEntropyLoss() "
   ]
  },
  {
   "cell_type": "code",
   "execution_count": 9,
   "id": "2b6f4d2c",
   "metadata": {},
   "outputs": [
    {
     "name": "stdout",
     "output_type": "stream",
     "text": [
      "Epoch:0 loss is 0.007280575577169657\n",
      "Epoch:1 loss is 0.008205997757613659\n",
      "Epoch:2 loss is 0.00014201503654476255\n",
      "Epoch:3 loss is 0.00011800734500866383\n",
      "Epoch:4 loss is 6.902621862536762e-06\n",
      "Epoch:5 loss is 1.1830335097329225e-05\n",
      "Epoch:6 loss is 0.0004236713284626603\n",
      "Epoch:7 loss is 3.851970541290939e-05\n",
      "Epoch:8 loss is 1.7508844507574395e-07\n",
      "Epoch:9 loss is 1.6763787868967484e-07\n"
     ]
    }
   ],
   "source": [
    "# Training flow \n",
    "if __name__ == \"__main__\": \n",
    "    for epoch in range(10): # train for 10 epochs\n",
    "        for batch in dataset: \n",
    "            X,y = batch \n",
    "            X, y = X.to('cpu'), y.to('cpu') \n",
    "            yhat = clf(X) \n",
    "            loss = loss_fn(yhat, y) \n",
    "\n",
    "            # Apply backprop \n",
    "            opt.zero_grad()\n",
    "            loss.backward() \n",
    "            opt.step() \n",
    "\n",
    "        print(f\"Epoch:{epoch} loss is {loss.item()}\")"
   ]
  },
  {
   "cell_type": "code",
   "execution_count": null,
   "id": "1ca0d8fc",
   "metadata": {},
   "outputs": [],
   "source": [
    "    with open('model_state.pt', 'wb') as f: \n",
    "        save(clf.state_dict(), f) \n",
    "\n",
    "    with open('model_state.pt', 'rb') as f: \n",
    "        clf.load_state_dict(load(f))  \n",
    "\n",
    "    img = Image.open('img_3.jpg') \n",
    "    img_tensor = ToTensor()(img).unsqueeze(0).to('cpu')\n",
    "\n",
    "    print(torch.argmax(clf(img_tensor)))"
   ]
  }
 ],
 "metadata": {
  "kernelspec": {
   "display_name": "Python 3 (ipykernel)",
   "language": "python",
   "name": "python3"
  },
  "language_info": {
   "codemirror_mode": {
    "name": "ipython",
    "version": 3
   },
   "file_extension": ".py",
   "mimetype": "text/x-python",
   "name": "python",
   "nbconvert_exporter": "python",
   "pygments_lexer": "ipython3",
   "version": "3.10.9"
  }
 },
 "nbformat": 4,
 "nbformat_minor": 5
}
